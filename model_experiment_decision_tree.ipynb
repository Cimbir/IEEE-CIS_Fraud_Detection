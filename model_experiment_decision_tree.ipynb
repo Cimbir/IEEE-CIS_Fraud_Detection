{
 "cells": [
  {
   "cell_type": "markdown",
   "metadata": {
    "execution": {
     "iopub.execute_input": "2025-04-27T16:25:19.005176Z",
     "iopub.status.busy": "2025-04-27T16:25:19.003315Z",
     "iopub.status.idle": "2025-04-27T16:25:19.012081Z",
     "shell.execute_reply": "2025-04-27T16:25:19.010821Z",
     "shell.execute_reply.started": "2025-04-27T16:25:19.005124Z"
    }
   },
   "source": [
    "# Get Data"
   ]
  },
  {
   "cell_type": "code",
   "execution_count": 1,
   "metadata": {
    "_cell_guid": "b1076dfc-b9ad-4769-8c92-a6c4dae69d19",
    "_uuid": "8f2839f25d086af736a60e9eeb907d3b93b6e0e5",
    "collapsed": true,
    "execution": {
     "iopub.execute_input": "2025-04-27T22:58:09.630926Z",
     "iopub.status.busy": "2025-04-27T22:58:09.630617Z",
     "iopub.status.idle": "2025-04-27T22:58:09.977631Z",
     "shell.execute_reply": "2025-04-27T22:58:09.976621Z",
     "shell.execute_reply.started": "2025-04-27T22:58:09.630877Z"
    },
    "jupyter": {
     "outputs_hidden": true
    },
    "trusted": true
   },
   "outputs": [
    {
     "name": "stdout",
     "output_type": "stream",
     "text": [
      "/kaggle/input/ieee-fraud-detection/sample_submission.csv\n",
      "/kaggle/input/ieee-fraud-detection/test_identity.csv\n",
      "/kaggle/input/ieee-fraud-detection/train_identity.csv\n",
      "/kaggle/input/ieee-fraud-detection/test_transaction.csv\n",
      "/kaggle/input/ieee-fraud-detection/train_transaction.csv\n"
     ]
    }
   ],
   "source": [
    "# This Python 3 environment comes with many helpful analytics libraries installed\n",
    "# It is defined by the kaggle/python Docker image: https://github.com/kaggle/docker-python\n",
    "# For example, here's several helpful packages to load\n",
    "\n",
    "import numpy as np # linear algebra\n",
    "import pandas as pd # data processing, CSV file I/O (e.g. pd.read_csv)\n",
    "\n",
    "# Input data files are available in the read-only \"../input/\" directory\n",
    "# For example, running this (by clicking run or pressing Shift+Enter) will list all files under the input directory\n",
    "\n",
    "import os\n",
    "for dirname, _, filenames in os.walk('/kaggle/input'):\n",
    "    for filename in filenames:\n",
    "        print(os.path.join(dirname, filename))\n",
    "\n",
    "# You can write up to 20GB to the current directory (/kaggle/working/) that gets preserved as output when you create a version using \"Save & Run All\" \n",
    "# You can also write temporary files to /kaggle/temp/, but they won't be saved outside of the current session"
   ]
  },
  {
   "cell_type": "code",
   "execution_count": 2,
   "metadata": {
    "collapsed": true,
    "execution": {
     "iopub.execute_input": "2025-04-27T22:58:09.978892Z",
     "iopub.status.busy": "2025-04-27T22:58:09.978548Z",
     "iopub.status.idle": "2025-04-27T22:58:25.333285Z",
     "shell.execute_reply": "2025-04-27T22:58:25.332281Z",
     "shell.execute_reply.started": "2025-04-27T22:58:09.978873Z"
    },
    "jupyter": {
     "outputs_hidden": true
    },
    "trusted": true
   },
   "outputs": [
    {
     "name": "stdout",
     "output_type": "stream",
     "text": [
      "Collecting scikit-learn==1.3.2\n",
      "  Downloading scikit_learn-1.3.2-cp311-cp311-manylinux_2_17_x86_64.manylinux2014_x86_64.whl.metadata (11 kB)\n",
      "Collecting imbalanced-learn==0.11.0\n",
      "  Downloading imbalanced_learn-0.11.0-py3-none-any.whl.metadata (8.3 kB)\n",
      "Collecting nilearn==0.10.0\n",
      "  Downloading nilearn-0.10.0-py3-none-any.whl.metadata (7.7 kB)\n",
      "Requirement already satisfied: numpy<2.0,>=1.17.3 in /usr/local/lib/python3.11/dist-packages (from scikit-learn==1.3.2) (1.26.4)\n",
      "Requirement already satisfied: scipy>=1.5.0 in /usr/local/lib/python3.11/dist-packages (from scikit-learn==1.3.2) (1.15.2)\n",
      "Requirement already satisfied: joblib>=1.1.1 in /usr/local/lib/python3.11/dist-packages (from scikit-learn==1.3.2) (1.4.2)\n",
      "Requirement already satisfied: threadpoolctl>=2.0.0 in /usr/local/lib/python3.11/dist-packages (from scikit-learn==1.3.2) (3.6.0)\n",
      "Requirement already satisfied: lxml in /usr/local/lib/python3.11/dist-packages (from nilearn==0.10.0) (5.3.1)\n",
      "Requirement already satisfied: nibabel>=3.2.0 in /usr/local/lib/python3.11/dist-packages (from nilearn==0.10.0) (5.3.2)\n",
      "Requirement already satisfied: pandas>=1.1.5 in /usr/local/lib/python3.11/dist-packages (from nilearn==0.10.0) (2.2.3)\n",
      "Requirement already satisfied: requests>=2.25.0 in /usr/local/lib/python3.11/dist-packages (from nilearn==0.10.0) (2.32.3)\n",
      "Requirement already satisfied: importlib-resources>=5.12 in /usr/local/lib/python3.11/dist-packages (from nibabel>=3.2.0->nilearn==0.10.0) (6.5.2)\n",
      "Requirement already satisfied: packaging>=20 in /usr/local/lib/python3.11/dist-packages (from nibabel>=3.2.0->nilearn==0.10.0) (24.2)\n",
      "Requirement already satisfied: typing-extensions>=4.6 in /usr/local/lib/python3.11/dist-packages (from nibabel>=3.2.0->nilearn==0.10.0) (4.13.1)\n",
      "Requirement already satisfied: mkl_fft in /usr/local/lib/python3.11/dist-packages (from numpy<2.0,>=1.17.3->scikit-learn==1.3.2) (1.3.8)\n",
      "Requirement already satisfied: mkl_random in /usr/local/lib/python3.11/dist-packages (from numpy<2.0,>=1.17.3->scikit-learn==1.3.2) (1.2.4)\n",
      "Requirement already satisfied: mkl_umath in /usr/local/lib/python3.11/dist-packages (from numpy<2.0,>=1.17.3->scikit-learn==1.3.2) (0.1.1)\n",
      "Requirement already satisfied: mkl in /usr/local/lib/python3.11/dist-packages (from numpy<2.0,>=1.17.3->scikit-learn==1.3.2) (2025.1.0)\n",
      "Requirement already satisfied: tbb4py in /usr/local/lib/python3.11/dist-packages (from numpy<2.0,>=1.17.3->scikit-learn==1.3.2) (2022.1.0)\n",
      "Requirement already satisfied: mkl-service in /usr/local/lib/python3.11/dist-packages (from numpy<2.0,>=1.17.3->scikit-learn==1.3.2) (2.4.1)\n",
      "Requirement already satisfied: python-dateutil>=2.8.2 in /usr/local/lib/python3.11/dist-packages (from pandas>=1.1.5->nilearn==0.10.0) (2.9.0.post0)\n",
      "Requirement already satisfied: pytz>=2020.1 in /usr/local/lib/python3.11/dist-packages (from pandas>=1.1.5->nilearn==0.10.0) (2025.2)\n",
      "Requirement already satisfied: tzdata>=2022.7 in /usr/local/lib/python3.11/dist-packages (from pandas>=1.1.5->nilearn==0.10.0) (2025.2)\n",
      "Requirement already satisfied: charset-normalizer<4,>=2 in /usr/local/lib/python3.11/dist-packages (from requests>=2.25.0->nilearn==0.10.0) (3.4.1)\n",
      "Requirement already satisfied: idna<4,>=2.5 in /usr/local/lib/python3.11/dist-packages (from requests>=2.25.0->nilearn==0.10.0) (3.10)\n",
      "Requirement already satisfied: urllib3<3,>=1.21.1 in /usr/local/lib/python3.11/dist-packages (from requests>=2.25.0->nilearn==0.10.0) (2.3.0)\n",
      "Requirement already satisfied: certifi>=2017.4.17 in /usr/local/lib/python3.11/dist-packages (from requests>=2.25.0->nilearn==0.10.0) (2025.1.31)\n",
      "Requirement already satisfied: six>=1.5 in /usr/local/lib/python3.11/dist-packages (from python-dateutil>=2.8.2->pandas>=1.1.5->nilearn==0.10.0) (1.17.0)\n",
      "Requirement already satisfied: intel-openmp<2026,>=2024 in /usr/local/lib/python3.11/dist-packages (from mkl->numpy<2.0,>=1.17.3->scikit-learn==1.3.2) (2024.2.0)\n",
      "Requirement already satisfied: tbb==2022.* in /usr/local/lib/python3.11/dist-packages (from mkl->numpy<2.0,>=1.17.3->scikit-learn==1.3.2) (2022.1.0)\n",
      "Requirement already satisfied: tcmlib==1.* in /usr/local/lib/python3.11/dist-packages (from tbb==2022.*->mkl->numpy<2.0,>=1.17.3->scikit-learn==1.3.2) (1.2.0)\n",
      "Requirement already satisfied: intel-cmplr-lib-rt in /usr/local/lib/python3.11/dist-packages (from mkl_umath->numpy<2.0,>=1.17.3->scikit-learn==1.3.2) (2024.2.0)\n",
      "Requirement already satisfied: intel-cmplr-lib-ur==2024.2.0 in /usr/local/lib/python3.11/dist-packages (from intel-openmp<2026,>=2024->mkl->numpy<2.0,>=1.17.3->scikit-learn==1.3.2) (2024.2.0)\n",
      "Downloading scikit_learn-1.3.2-cp311-cp311-manylinux_2_17_x86_64.manylinux2014_x86_64.whl (10.9 MB)\n",
      "\u001b[2K   \u001b[90m━━━━━━━━━━━━━━━━━━━━━━━━━━━━━━━━━━━━━━━━\u001b[0m \u001b[32m10.9/10.9 MB\u001b[0m \u001b[31m88.6 MB/s\u001b[0m eta \u001b[36m0:00:00\u001b[0m:00:01\u001b[0m00:01\u001b[0m\n",
      "\u001b[?25hDownloading imbalanced_learn-0.11.0-py3-none-any.whl (235 kB)\n",
      "\u001b[2K   \u001b[90m━━━━━━━━━━━━━━━━━━━━━━━━━━━━━━━━━━━━━━━━\u001b[0m \u001b[32m235.6/235.6 kB\u001b[0m \u001b[31m14.2 MB/s\u001b[0m eta \u001b[36m0:00:00\u001b[0m\n",
      "\u001b[?25hDownloading nilearn-0.10.0-py3-none-any.whl (9.6 MB)\n",
      "\u001b[2K   \u001b[90m━━━━━━━━━━━━━━━━━━━━━━━━━━━━━━━━━━━━━━━━\u001b[0m \u001b[32m9.6/9.6 MB\u001b[0m \u001b[31m82.3 MB/s\u001b[0m eta \u001b[36m0:00:00\u001b[0m:00:01\u001b[0m00:01\u001b[0m\n",
      "\u001b[?25hInstalling collected packages: scikit-learn, nilearn, imbalanced-learn\n",
      "  Attempting uninstall: scikit-learn\n",
      "    Found existing installation: scikit-learn 1.2.2\n",
      "    Uninstalling scikit-learn-1.2.2:\n",
      "      Successfully uninstalled scikit-learn-1.2.2\n",
      "  Attempting uninstall: nilearn\n",
      "    Found existing installation: nilearn 0.11.1\n",
      "    Uninstalling nilearn-0.11.1:\n",
      "      Successfully uninstalled nilearn-0.11.1\n",
      "  Attempting uninstall: imbalanced-learn\n",
      "    Found existing installation: imbalanced-learn 0.13.0\n",
      "    Uninstalling imbalanced-learn-0.13.0:\n",
      "      Successfully uninstalled imbalanced-learn-0.13.0\n",
      "\u001b[31mERROR: pip's dependency resolver does not currently take into account all the packages that are installed. This behaviour is the source of the following dependency conflicts.\n",
      "bigframes 1.36.0 requires rich<14,>=12.4.4, but you have rich 14.0.0 which is incompatible.\u001b[0m\u001b[31m\n",
      "\u001b[0mSuccessfully installed imbalanced-learn-0.11.0 nilearn-0.10.0 scikit-learn-1.3.2\n",
      "Collecting kds\n",
      "  Downloading kds-0.1.3-py3-none-any.whl.metadata (6.5 kB)\n",
      "Requirement already satisfied: matplotlib>=1.4.0 in /usr/local/lib/python3.11/dist-packages (from kds) (3.7.5)\n",
      "Requirement already satisfied: pandas>=0.20.0 in /usr/local/lib/python3.11/dist-packages (from kds) (2.2.3)\n",
      "Requirement already satisfied: numpy>=1.12.0 in /usr/local/lib/python3.11/dist-packages (from kds) (1.26.4)\n",
      "Requirement already satisfied: contourpy>=1.0.1 in /usr/local/lib/python3.11/dist-packages (from matplotlib>=1.4.0->kds) (1.3.1)\n",
      "Requirement already satisfied: cycler>=0.10 in /usr/local/lib/python3.11/dist-packages (from matplotlib>=1.4.0->kds) (0.12.1)\n",
      "Requirement already satisfied: fonttools>=4.22.0 in /usr/local/lib/python3.11/dist-packages (from matplotlib>=1.4.0->kds) (4.56.0)\n",
      "Requirement already satisfied: kiwisolver>=1.0.1 in /usr/local/lib/python3.11/dist-packages (from matplotlib>=1.4.0->kds) (1.4.8)\n",
      "Requirement already satisfied: packaging>=20.0 in /usr/local/lib/python3.11/dist-packages (from matplotlib>=1.4.0->kds) (24.2)\n",
      "Requirement already satisfied: pillow>=6.2.0 in /usr/local/lib/python3.11/dist-packages (from matplotlib>=1.4.0->kds) (11.1.0)\n",
      "Requirement already satisfied: pyparsing>=2.3.1 in /usr/local/lib/python3.11/dist-packages (from matplotlib>=1.4.0->kds) (3.2.1)\n",
      "Requirement already satisfied: python-dateutil>=2.7 in /usr/local/lib/python3.11/dist-packages (from matplotlib>=1.4.0->kds) (2.9.0.post0)\n",
      "Requirement already satisfied: mkl_fft in /usr/local/lib/python3.11/dist-packages (from numpy>=1.12.0->kds) (1.3.8)\n",
      "Requirement already satisfied: mkl_random in /usr/local/lib/python3.11/dist-packages (from numpy>=1.12.0->kds) (1.2.4)\n",
      "Requirement already satisfied: mkl_umath in /usr/local/lib/python3.11/dist-packages (from numpy>=1.12.0->kds) (0.1.1)\n",
      "Requirement already satisfied: mkl in /usr/local/lib/python3.11/dist-packages (from numpy>=1.12.0->kds) (2025.1.0)\n",
      "Requirement already satisfied: tbb4py in /usr/local/lib/python3.11/dist-packages (from numpy>=1.12.0->kds) (2022.1.0)\n",
      "Requirement already satisfied: mkl-service in /usr/local/lib/python3.11/dist-packages (from numpy>=1.12.0->kds) (2.4.1)\n",
      "Requirement already satisfied: pytz>=2020.1 in /usr/local/lib/python3.11/dist-packages (from pandas>=0.20.0->kds) (2025.2)\n",
      "Requirement already satisfied: tzdata>=2022.7 in /usr/local/lib/python3.11/dist-packages (from pandas>=0.20.0->kds) (2025.2)\n",
      "Requirement already satisfied: six>=1.5 in /usr/local/lib/python3.11/dist-packages (from python-dateutil>=2.7->matplotlib>=1.4.0->kds) (1.17.0)\n",
      "Requirement already satisfied: intel-openmp<2026,>=2024 in /usr/local/lib/python3.11/dist-packages (from mkl->numpy>=1.12.0->kds) (2024.2.0)\n",
      "Requirement already satisfied: tbb==2022.* in /usr/local/lib/python3.11/dist-packages (from mkl->numpy>=1.12.0->kds) (2022.1.0)\n",
      "Requirement already satisfied: tcmlib==1.* in /usr/local/lib/python3.11/dist-packages (from tbb==2022.*->mkl->numpy>=1.12.0->kds) (1.2.0)\n",
      "Requirement already satisfied: intel-cmplr-lib-rt in /usr/local/lib/python3.11/dist-packages (from mkl_umath->numpy>=1.12.0->kds) (2024.2.0)\n",
      "Requirement already satisfied: intel-cmplr-lib-ur==2024.2.0 in /usr/local/lib/python3.11/dist-packages (from intel-openmp<2026,>=2024->mkl->numpy>=1.12.0->kds) (2024.2.0)\n",
      "Downloading kds-0.1.3-py3-none-any.whl (7.4 kB)\n",
      "Installing collected packages: kds\n",
      "Successfully installed kds-0.1.3\n"
     ]
    }
   ],
   "source": [
    "!pip install --upgrade scikit-learn==1.3.2 imbalanced-learn==0.11.0 nilearn==0.10.0\n",
    "!pip install kds"
   ]
  },
  {
   "cell_type": "code",
   "execution_count": 4,
   "metadata": {
    "execution": {
     "iopub.execute_input": "2025-04-27T22:58:37.869556Z",
     "iopub.status.busy": "2025-04-27T22:58:37.869238Z",
     "iopub.status.idle": "2025-04-27T22:58:37.876147Z",
     "shell.execute_reply": "2025-04-27T22:58:37.875052Z",
     "shell.execute_reply.started": "2025-04-27T22:58:37.869533Z"
    },
    "trusted": true
   },
   "outputs": [],
   "source": [
    "from sklearn.base import BaseEstimator, TransformerMixin, clone\n",
    "from sklearn.feature_selection import RFE\n",
    "from sklearn.preprocessing import LabelEncoder\n",
    "from sklearn.linear_model import LinearRegression\n",
    "import matplotlib.pyplot as plt\n",
    "from sklearn.model_selection import learning_curve, StratifiedKFold, cross_validate\n",
    "import seaborn as sns\n",
    "from sklearn.impute import SimpleImputer\n",
    "from sklearn.compose import ColumnTransformer\n",
    "from imblearn.pipeline import Pipeline as ImbPipeline\n",
    "from imblearn.over_sampling import SMOTE\n",
    "from sklearn.pipeline import Pipeline\n",
    "from scipy.stats import zscore\n",
    "from sklearn.tree import DecisionTreeClassifier, plot_tree\n",
    "from sklearn.ensemble import GradientBoostingClassifier\n",
    "import shap\n",
    "import kds\n",
    "from sklearn.model_selection import cross_val_predict\n",
    "from sklearn.metrics import confusion_matrix, roc_curve, auc, precision_recall_curve, average_precision_score, f1_score, recall_score, roc_auc_score, precision_score, accuracy_score"
   ]
  },
  {
   "cell_type": "code",
   "execution_count": 5,
   "metadata": {
    "execution": {
     "iopub.execute_input": "2025-04-27T22:58:38.086816Z",
     "iopub.status.busy": "2025-04-27T22:58:38.086430Z",
     "iopub.status.idle": "2025-04-27T22:58:38.093138Z",
     "shell.execute_reply": "2025-04-27T22:58:38.091994Z",
     "shell.execute_reply.started": "2025-04-27T22:58:38.086783Z"
    },
    "trusted": true
   },
   "outputs": [],
   "source": [
    "pd.set_option('display.max_columns', None)  \n",
    "pd.set_option('display.width', None)        \n",
    "pd.set_option('display.expand_frame_repr', False)\n",
    "pd.set_option('future.no_silent_downcasting', True)\n",
    "pd.set_option('display.max_rows', None)\n",
    "\n",
    "import warnings\n",
    "warnings.filterwarnings(\"ignore\", category=RuntimeWarning)"
   ]
  },
  {
   "cell_type": "code",
   "execution_count": 6,
   "metadata": {
    "execution": {
     "iopub.execute_input": "2025-04-27T22:58:39.338568Z",
     "iopub.status.busy": "2025-04-27T22:58:39.338279Z",
     "iopub.status.idle": "2025-04-27T22:59:08.262864Z",
     "shell.execute_reply": "2025-04-27T22:59:08.261827Z",
     "shell.execute_reply.started": "2025-04-27T22:58:39.338546Z"
    },
    "trusted": true
   },
   "outputs": [],
   "source": [
    "df = pd.read_csv('/kaggle/input/ieee-fraud-detection/train_transaction.csv')\n",
    "df_s = pd.read_csv('/kaggle/input/ieee-fraud-detection/train_identity.csv')"
   ]
  },
  {
   "cell_type": "code",
   "execution_count": 7,
   "metadata": {
    "execution": {
     "iopub.execute_input": "2025-04-27T15:14:56.215500Z",
     "iopub.status.busy": "2025-04-27T15:14:56.215242Z",
     "iopub.status.idle": "2025-04-27T15:15:18.888734Z",
     "shell.execute_reply": "2025-04-27T15:15:18.887802Z",
     "shell.execute_reply.started": "2025-04-27T15:14:56.215478Z"
    },
    "trusted": true
   },
   "outputs": [],
   "source": [
    "df_test = pd.read_csv('/kaggle/input/ieee-fraud-detection/test_transaction.csv')"
   ]
  },
  {
   "cell_type": "code",
   "execution_count": null,
   "metadata": {
    "trusted": true
   },
   "outputs": [],
   "source": [
    "df.shape, df_s.shape, df_test.shape"
   ]
  },
  {
   "cell_type": "code",
   "execution_count": null,
   "metadata": {
    "trusted": true
   },
   "outputs": [],
   "source": [
    "df.head(10)"
   ]
  },
  {
   "cell_type": "code",
   "execution_count": null,
   "metadata": {
    "trusted": true
   },
   "outputs": [],
   "source": [
    "df_s.head(10)"
   ]
  },
  {
   "cell_type": "code",
   "execution_count": null,
   "metadata": {
    "trusted": true
   },
   "outputs": [],
   "source": [
    "df.isna().sum()"
   ]
  },
  {
   "cell_type": "code",
   "execution_count": null,
   "metadata": {
    "trusted": true
   },
   "outputs": [],
   "source": [
    "num_duplicates = df_s.duplicated(subset='TransactionID').sum()\n",
    "print(f\"Number of duplicate TransactionIDs: {num_duplicates}\")"
   ]
  },
  {
   "cell_type": "code",
   "execution_count": null,
   "metadata": {
    "trusted": true
   },
   "outputs": [],
   "source": [
    "df['isFraud'].value_counts()"
   ]
  },
  {
   "cell_type": "markdown",
   "metadata": {},
   "source": [
    "# Cleaning"
   ]
  },
  {
   "cell_type": "code",
   "execution_count": 7,
   "metadata": {
    "execution": {
     "iopub.execute_input": "2025-04-27T23:01:16.420462Z",
     "iopub.status.busy": "2025-04-27T23:01:16.419719Z",
     "iopub.status.idle": "2025-04-27T23:01:16.426430Z",
     "shell.execute_reply": "2025-04-27T23:01:16.425326Z",
     "shell.execute_reply.started": "2025-04-27T23:01:16.420433Z"
    },
    "trusted": true
   },
   "outputs": [],
   "source": [
    "def get_cat_cols(df):\n",
    "    return df.select_dtypes(include=['object', 'category']).columns\n",
    "\n",
    "def get_num_cols(df):\n",
    "    return df.select_dtypes(include=['int64','float64', 'number']).columns"
   ]
  },
  {
   "cell_type": "code",
   "execution_count": null,
   "metadata": {
    "trusted": true
   },
   "outputs": [],
   "source": [
    "cols_to_remove=df.columns[df.isna().mean() > 0.7]\n",
    "row_nan_frac=0.5\n",
    "num_imputer=SimpleImputer(strategy='mean')\n",
    "cat_imputer=SimpleImputer(strategy='most_frequent')\n",
    "outlier_handling='iqr'\n",
    "outlier_thresh=0.1"
   ]
  },
  {
   "cell_type": "code",
   "execution_count": 8,
   "metadata": {
    "execution": {
     "iopub.execute_input": "2025-04-27T23:01:18.416014Z",
     "iopub.status.busy": "2025-04-27T23:01:18.414757Z",
     "iopub.status.idle": "2025-04-27T23:01:19.936965Z",
     "shell.execute_reply": "2025-04-27T23:01:19.935963Z",
     "shell.execute_reply.started": "2025-04-27T23:01:18.415944Z"
    },
    "trusted": true
   },
   "outputs": [],
   "source": [
    "def clean(df,\n",
    "          cols_to_remove=df.columns[df.isna().mean() > 0.7],\n",
    "          row_nan_frac=0.5,\n",
    "          num_imputer=SimpleImputer(strategy='mean'),\n",
    "          cat_imputer=SimpleImputer(strategy='most_frequent'),\n",
    "          outlier_handling='iqr',\n",
    "          outlier_thresh=0.25):\n",
    "    # drop useless cols\n",
    "    df_pre = df.drop(columns=cols_to_remove, errors='ignore')\n",
    "\n",
    "    # drop useless rows\n",
    "    df_pre.dropna(axis=0, thresh=int(df_pre.shape[1] * (1 - row_nan_frac)), inplace=True)\n",
    "\n",
    "    # impute\n",
    "    num_cols = get_num_cols(df_pre)\n",
    "    cat_cols = get_cat_cols(df_pre)\n",
    "    imputer = ColumnTransformer(\n",
    "        transformers=[\n",
    "            ('num', num_imputer, num_cols),\n",
    "            ('cat', cat_imputer, cat_cols)\n",
    "        ]\n",
    "    )\n",
    "    imputer.fit(df_pre)\n",
    "    cols = num_cols.tolist()+cat_cols.tolist()\n",
    "    df_pre = pd.DataFrame(imputer.transform(df_pre), columns=cols)\n",
    "    df_pre[num_cols] = df_pre[num_cols].astype('float64')\n",
    "    df_pre[cat_cols] = df_pre[cat_cols].astype('object')\n",
    "        \n",
    "    # remove outliers\n",
    "    majority = df_pre[df_pre['isFraud'] == 0]\n",
    "    minority = df_pre[df_pre['isFraud'] == 1]\n",
    "    if outlier_handling == 'zscore':\n",
    "        z_scores = np.abs(zscore(majority[num_cols]))\n",
    "        majority = majority[(z_scores < outlier_thresh).all(axis=1)]\n",
    "    elif outlier_handling == 'iqr':\n",
    "        Q1 = majority[num_cols].quantile(outlier_thresh)\n",
    "        Q3 = majority[num_cols].quantile(1 - outlier_thresh)\n",
    "        IQR = Q3 - Q1\n",
    "\n",
    "        majority = majority[~((majority[num_cols] < (Q1 - 1.5 * IQR)) | (majority[num_cols] > (Q3 + 1.5 * IQR))).any(axis=1)]\n",
    "\n",
    "    df_pre = pd.concat([majority, minority])\n",
    "    \n",
    "    return df_pre"
   ]
  },
  {
   "cell_type": "code",
   "execution_count": null,
   "metadata": {
    "trusted": true
   },
   "outputs": [],
   "source": [
    "df_cleaned = clean(df, outlier_handling=outlier_handling, outlier_thresh=outlier_thresh)\n",
    "df_cleaned.head(10)"
   ]
  },
  {
   "cell_type": "code",
   "execution_count": null,
   "metadata": {
    "trusted": true
   },
   "outputs": [],
   "source": [
    "df_cleaned.shape"
   ]
  },
  {
   "cell_type": "code",
   "execution_count": null,
   "metadata": {
    "trusted": true
   },
   "outputs": [],
   "source": [
    "df_cleaned['isFraud'].value_counts()"
   ]
  },
  {
   "cell_type": "code",
   "execution_count": null,
   "metadata": {
    "trusted": true
   },
   "outputs": [],
   "source": [
    "X = df_cleaned.drop(columns=['isFraud'])\n",
    "X.head(10)"
   ]
  },
  {
   "cell_type": "code",
   "execution_count": null,
   "metadata": {
    "trusted": true
   },
   "outputs": [],
   "source": [
    "y = df_cleaned['isFraud']\n",
    "y.head(10)"
   ]
  },
  {
   "cell_type": "code",
   "execution_count": 9,
   "metadata": {
    "execution": {
     "iopub.execute_input": "2025-04-27T23:01:22.195820Z",
     "iopub.status.busy": "2025-04-27T23:01:22.195483Z",
     "iopub.status.idle": "2025-04-27T23:01:22.204084Z",
     "shell.execute_reply": "2025-04-27T23:01:22.202959Z",
     "shell.execute_reply.started": "2025-04-27T23:01:22.195796Z"
    },
    "trusted": true
   },
   "outputs": [],
   "source": [
    "class CleaningPreprocessor(BaseEstimator, TransformerMixin):\n",
    "    def __init__(self, \n",
    "                 cols_to_remove=[],\n",
    "                 num_imputer=SimpleImputer(strategy='median'), \n",
    "                 cat_imputer=SimpleImputer(strategy='constant', fill_value='missing')):\n",
    "        self.cols_to_remove = cols_to_remove\n",
    "        self.num_imputer = num_imputer\n",
    "        self.cat_imputer = cat_imputer\n",
    "    \n",
    "    def fit(self, X, y=None):\n",
    "        X_clean = X.drop(columns=self.cols_to_remove, errors='ignore')\n",
    "\n",
    "        self.num_cols = get_num_cols(X_clean)\n",
    "        self.cat_cols = get_cat_cols(X_clean)\n",
    "        \n",
    "        self.imputer = ColumnTransformer(\n",
    "            transformers=[\n",
    "                ('num', self.num_imputer, self.num_cols),\n",
    "                ('cat', self.cat_imputer, self.cat_cols)\n",
    "            ]\n",
    "        )\n",
    "        \n",
    "        self.imputer.fit(X_clean)\n",
    "        return self\n",
    "    \n",
    "    def transform(self, X):\n",
    "        \n",
    "        X_clean = X.copy()\n",
    "\n",
    "        # drop useless cols\n",
    "        X_clean.drop(columns=self.cols_to_remove, errors='ignore', inplace=True)\n",
    "\n",
    "        # impute\n",
    "        cols = self.num_cols.tolist()+self.cat_cols.tolist()\n",
    "        X_clean = pd.DataFrame(self.imputer.transform(X_clean), columns=cols)\n",
    "        X_clean[self.num_cols] = X_clean[self.num_cols].astype('float64')\n",
    "        X_clean[self.cat_cols] = X_clean[self.cat_cols].astype('object')\n",
    "        \n",
    "        return X_clean"
   ]
  },
  {
   "cell_type": "code",
   "execution_count": null,
   "metadata": {
    "trusted": true
   },
   "outputs": [],
   "source": [
    "cleaner = CleaningPreprocessor(cols_to_remove=cols_to_remove, num_imputer=num_imputer, cat_imputer=cat_imputer)"
   ]
  },
  {
   "cell_type": "code",
   "execution_count": null,
   "metadata": {
    "trusted": true
   },
   "outputs": [],
   "source": [
    "cleaned = cleaner.fit_transform(X, y)\n",
    "cleaned.shape"
   ]
  },
  {
   "cell_type": "code",
   "execution_count": null,
   "metadata": {
    "trusted": true
   },
   "outputs": [],
   "source": [
    "cleaned_test = cleaner.transform(df_test)\n",
    "cleaned_test.shape"
   ]
  },
  {
   "cell_type": "code",
   "execution_count": null,
   "metadata": {
    "trusted": true
   },
   "outputs": [],
   "source": [
    "cleaned.head(10)"
   ]
  },
  {
   "cell_type": "code",
   "execution_count": null,
   "metadata": {
    "trusted": true
   },
   "outputs": [],
   "source": [
    "cleaned.dtypes"
   ]
  },
  {
   "cell_type": "code",
   "execution_count": null,
   "metadata": {
    "trusted": true
   },
   "outputs": [],
   "source": [
    "cleaned_test.isna().sum()"
   ]
  },
  {
   "cell_type": "markdown",
   "metadata": {},
   "source": [
    "# Feature Engineering"
   ]
  },
  {
   "cell_type": "code",
   "execution_count": 10,
   "metadata": {
    "execution": {
     "iopub.execute_input": "2025-04-27T23:01:25.189568Z",
     "iopub.status.busy": "2025-04-27T23:01:25.189267Z",
     "iopub.status.idle": "2025-04-27T23:01:25.203783Z",
     "shell.execute_reply": "2025-04-27T23:01:25.202861Z",
     "shell.execute_reply.started": "2025-04-27T23:01:25.189546Z"
    },
    "trusted": true
   },
   "outputs": [],
   "source": [
    "class FeatureEngineeringPreprocessor(BaseEstimator, TransformerMixin):\n",
    "    def __init__(self, encoding):\n",
    "        self.encoding = encoding\n",
    "    \n",
    "    def fit(self, X, y):\n",
    "        x_tmp = pd.concat([X, y], axis=1)\n",
    "        self.cat_cols = get_cat_cols(X)\n",
    "        if self.encoding == 'target':\n",
    "            self.target_mean_map = {}\n",
    "            for col in self.cat_cols:\n",
    "                self.target_mean_map[col] = x_tmp.groupby(col)[y.name].mean()\n",
    "        elif self.encoding == 'frequency':\n",
    "            self.frequency_map = {}\n",
    "            for col in self.cat_cols:\n",
    "                self.frequency_map[col] = X[col].value_counts(normalize=True)\n",
    "        elif self.encoding == 'woe':\n",
    "            self.woe_map = {}\n",
    "            for col in self.cat_cols:\n",
    "                groups = x_tmp.groupby([col])['isFraud'].agg(['count', 'sum'])\n",
    "                groups.columns = ['n_obs', 'n_pos']\n",
    "                groups['n_neg'] = groups['n_obs'] - groups['n_pos']\n",
    "        \n",
    "                groups['prop_pos'] = groups['n_pos'] / groups['n_pos'].sum()\n",
    "                groups['prop_neg'] = groups['n_neg'] / groups['n_neg'].sum()\n",
    "\n",
    "                epsilon = 1e-6\n",
    "                groups['woe'] = np.log(groups['prop_pos']+epsilon/ groups['prop_neg']+epsilon)\n",
    "        \n",
    "                groups.replace([np.inf, -np.inf], 0, inplace=True)\n",
    "                groups.fillna(0, inplace=True)\n",
    "            \n",
    "                woe_dict = groups['woe'].to_dict()\n",
    "            \n",
    "                self.woe_map[col] = woe_dict\n",
    "        return self\n",
    "    \n",
    "    def transform(self, X):\n",
    "        modified = set()\n",
    "        X_transformed = X.copy()\n",
    "        \n",
    "        if self.encoding == 'one_hot':\n",
    "            one_hot_encoded = X_transformed = pd.get_dummies(X_transformed, columns=self.cat_cols, drop_first=True)\n",
    "        elif self.encoding == 'target':\n",
    "            for col in self.cat_cols:\n",
    "                X_transformed[col] = X_transformed[col].map(self.target_mean_map[col])\n",
    "        elif self.encoding == 'frequency':\n",
    "            for col in self.cat_cols:\n",
    "                X_transformed[col] = X_transformed[col].map(self.frequency_map[col])\n",
    "        elif self.encoding == 'woe':\n",
    "            for col in self.cat_cols:\n",
    "                X_transformed[col] = X_transformed[col].map(self.woe_map[col])\n",
    "        else:\n",
    "            encoder = LabelEncoder()\n",
    "            for col in self.cat_cols:\n",
    "                X_transformed[col] = encoder.fit_transform(X_transformed[col])\n",
    "\n",
    "        X_transformed = X_transformed.fillna(0)\n",
    "        return X_transformed"
   ]
  },
  {
   "cell_type": "code",
   "execution_count": null,
   "metadata": {
    "trusted": true
   },
   "outputs": [],
   "source": [
    "cleaned_cat_cols = get_cat_cols(cleaned)\n",
    "cleaned_cat_cols"
   ]
  },
  {
   "cell_type": "code",
   "execution_count": null,
   "metadata": {
    "trusted": true
   },
   "outputs": [],
   "source": [
    "engineer = FeatureEngineeringPreprocessor(woe_cats=cleaned_cat_cols)"
   ]
  },
  {
   "cell_type": "code",
   "execution_count": null,
   "metadata": {
    "trusted": true
   },
   "outputs": [],
   "source": [
    "engineered = engineer.fit_transform(cleaned, y)\n",
    "engineered.head(10)"
   ]
  },
  {
   "cell_type": "code",
   "execution_count": null,
   "metadata": {
    "trusted": true
   },
   "outputs": [],
   "source": [
    "engineered_test = engineer.transform(cleaned_test)\n",
    "engineered_test.head(10)"
   ]
  },
  {
   "cell_type": "markdown",
   "metadata": {},
   "source": [
    "# Feature Selection"
   ]
  },
  {
   "cell_type": "code",
   "execution_count": 11,
   "metadata": {
    "execution": {
     "iopub.execute_input": "2025-04-27T23:01:28.502938Z",
     "iopub.status.busy": "2025-04-27T23:01:28.502589Z",
     "iopub.status.idle": "2025-04-27T23:01:28.515024Z",
     "shell.execute_reply": "2025-04-27T23:01:28.513990Z",
     "shell.execute_reply.started": "2025-04-27T23:01:28.502882Z"
    },
    "trusted": true
   },
   "outputs": [],
   "source": [
    "def correlation_filter(X, y, threshold=0.8, log=False):\n",
    "    corr = X.drop(columns=['TransactionID']).corr().abs()\n",
    "\n",
    "    to_drop_pairs = []\n",
    "    for i in range(len(corr.columns)):\n",
    "        for j in range(i):\n",
    "            if corr.iloc[i, j] > threshold:\n",
    "                to_drop_pairs.append((corr.columns[i], corr.columns[j], corr.iloc[i, j]))\n",
    "\n",
    "    if log:\n",
    "        print(\"Highly correlated pairs:\")\n",
    "        for col1, col2, corr_val in to_drop_pairs:\n",
    "            print(f\"{col1} and {col2}: {corr_val}\")\n",
    "        \n",
    "    to_drop = set()\n",
    "    for col1, col2, _ in to_drop_pairs:\n",
    "        if abs(X[col1].corr(y)) > abs(X[col2].corr(y)):\n",
    "            to_drop.add(col2)\n",
    "        else:\n",
    "            to_drop.add(col1)\n",
    "            \n",
    "    to_drop = list(to_drop)\n",
    "    if log:\n",
    "        print(f\"Columns to drop: {to_drop}\")\n",
    "    \n",
    "    return to_drop\n",
    "\n",
    "\n",
    "def rfe_feature_selection(X, y, model, n_features_to_select=30, log=False):\n",
    "    # Drop 'TransactionID' if present\n",
    "    X_t = X.drop(columns=['TransactionID'], errors='ignore')\n",
    "    \n",
    "    # Initialize and fit RFE\n",
    "    selector = RFE(model, n_features_to_select=n_features_to_select, step=1)\n",
    "    selector.fit(X_t, y)\n",
    "    \n",
    "    # Create DataFrame of selected features\n",
    "    selected_df = pd.DataFrame({\n",
    "        'feature': X_t.columns,\n",
    "        'selected': selector.support_,\n",
    "        'ranking': selector.ranking_\n",
    "    }).sort_values(by='selected', ascending=False).reset_index(drop=True)\n",
    "    \n",
    "    if log:\n",
    "        selected_list = selected_df[selected_df['selected']]['feature'].tolist()\n",
    "        print(f\"Selected features: {selected_list}\")\n",
    "    \n",
    "    return selected_df\n",
    "\n",
    "\n",
    "def shap_feature_importance(model, X):\n",
    "    # Initialize SHAP explainer (TreeExplainer for tree-based models)\n",
    "    explainer = shap.TreeExplainer(model)\n",
    "    shap_values = explainer.shap_values(X)\n",
    "    \n",
    "    # If multiclass, shap_values is a list or array with shape (num_classes, n_samples, n_features)\n",
    "    if isinstance(shap_values, list):\n",
    "        shap_values = np.stack(shap_values, axis=0)\n",
    "\n",
    "    # Take mean absolute shap value across classes and samples\n",
    "    shap_importance = np.abs(shap_values).mean(axis=(0, 1))\n",
    "\n",
    "    shap_df = pd.DataFrame({\n",
    "        'feature': X.columns,\n",
    "        'importance': shap_importance\n",
    "    }).sort_values(by='importance', ascending=False).reset_index(drop=True)\n",
    "    \n",
    "    return shap_df\n",
    "\n",
    "\n",
    "def model_feature_importance(model, X):\n",
    "    # Extract feature importances from the model\n",
    "    importances = model.feature_importances_\n",
    "    \n",
    "    # Create DataFrame with feature importances\n",
    "    importance_df = pd.DataFrame({\n",
    "        'feature': X.columns,\n",
    "        'importance': importances\n",
    "    }).sort_values(by='importance', ascending=False).reset_index(drop=True)\n",
    "    \n",
    "    return importance_df\n"
   ]
  },
  {
   "cell_type": "code",
   "execution_count": 12,
   "metadata": {
    "execution": {
     "iopub.execute_input": "2025-04-27T23:01:31.499360Z",
     "iopub.status.busy": "2025-04-27T23:01:31.498663Z",
     "iopub.status.idle": "2025-04-27T23:01:31.504878Z",
     "shell.execute_reply": "2025-04-27T23:01:31.503963Z",
     "shell.execute_reply.started": "2025-04-27T23:01:31.499331Z"
    },
    "trusted": true
   },
   "outputs": [],
   "source": [
    "class FeatureSelectionPreprocessor(BaseEstimator, TransformerMixin):\n",
    "    def __init__(self, selected_features=None):\n",
    "        self.selected_features = selected_features\n",
    "    \n",
    "    def fit(self, X, y):\n",
    "        return self\n",
    "    \n",
    "    def transform(self, X):\n",
    "        X_transformed = X.copy()\n",
    "        if self.selected_features is not None:\n",
    "            for col in self.selected_features:\n",
    "                if col not in X_transformed.columns:\n",
    "                    X_transformed[col] = False\n",
    "            return X_transformed[self.selected_features]\n",
    "        return X_transformed"
   ]
  },
  {
   "cell_type": "code",
   "execution_count": null,
   "metadata": {
    "trusted": true
   },
   "outputs": [],
   "source": [
    "to_drop_corr = correlation_filter(engineered, y, log=True)\n",
    "dropped_corr = engineered.drop(columns=to_drop_corr)\n",
    "to_stay_rfe = rfe(dropped_corr, y, log=True)"
   ]
  },
  {
   "cell_type": "code",
   "execution_count": null,
   "metadata": {
    "trusted": true
   },
   "outputs": [],
   "source": [
    "selector = FeatureSelectionPreprocessor(selected_features=to_stay_rfe)"
   ]
  },
  {
   "cell_type": "code",
   "execution_count": null,
   "metadata": {
    "trusted": true
   },
   "outputs": [],
   "source": [
    "selected = selector.fit_transform(engineered, y)\n",
    "selected.head(10)"
   ]
  },
  {
   "cell_type": "markdown",
   "metadata": {},
   "source": [
    "# Training"
   ]
  },
  {
   "cell_type": "code",
   "execution_count": 13,
   "metadata": {
    "execution": {
     "iopub.execute_input": "2025-04-27T23:01:33.947314Z",
     "iopub.status.busy": "2025-04-27T23:01:33.947001Z",
     "iopub.status.idle": "2025-04-27T23:02:42.519603Z",
     "shell.execute_reply": "2025-04-27T23:02:42.518825Z",
     "shell.execute_reply.started": "2025-04-27T23:01:33.947293Z"
    },
    "trusted": true
   },
   "outputs": [
    {
     "name": "stdout",
     "output_type": "stream",
     "text": [
      "cleaned\n"
     ]
    }
   ],
   "source": [
    "# cleaning\n",
    "\n",
    "cols_to_remove=df.columns[df.isna().mean() > 0.5]\n",
    "row_nan_frac=0.5\n",
    "num_imputer=SimpleImputer(strategy='mean')\n",
    "cat_imputer=SimpleImputer(strategy='most_frequent')\n",
    "outlier_handling='none'\n",
    "outlier_thresh=0.1\n",
    "\n",
    "df_cleaned = clean(df, \n",
    "                   cols_to_remove=cols_to_remove, \n",
    "                   row_nan_frac=row_nan_frac,\n",
    "                   num_imputer=num_imputer,\n",
    "                   cat_imputer=cat_imputer,\n",
    "                   outlier_handling=outlier_handling, \n",
    "                   outlier_thresh=outlier_thresh)\n",
    "X = df_cleaned.drop(columns=['isFraud'])\n",
    "y = df_cleaned['isFraud']\n",
    "cleaner = CleaningPreprocessor(cols_to_remove=cols_to_remove, \n",
    "                               num_imputer=num_imputer, \n",
    "                               cat_imputer=cat_imputer)\n",
    "cleaned = cleaner.fit_transform(X, y)\n",
    "print('cleaned')"
   ]
  },
  {
   "cell_type": "code",
   "execution_count": null,
   "metadata": {
    "trusted": true
   },
   "outputs": [],
   "source": [
    "cleaned.shape"
   ]
  },
  {
   "cell_type": "code",
   "execution_count": null,
   "metadata": {
    "trusted": true
   },
   "outputs": [],
   "source": [
    "y.value_counts()"
   ]
  },
  {
   "cell_type": "code",
   "execution_count": 14,
   "metadata": {
    "execution": {
     "iopub.execute_input": "2025-04-27T23:03:18.777564Z",
     "iopub.status.busy": "2025-04-27T23:03:18.777295Z",
     "iopub.status.idle": "2025-04-27T23:03:23.883613Z",
     "shell.execute_reply": "2025-04-27T23:03:23.882612Z",
     "shell.execute_reply.started": "2025-04-27T23:03:18.777547Z"
    },
    "trusted": true
   },
   "outputs": [
    {
     "name": "stdout",
     "output_type": "stream",
     "text": [
      "engineered\n"
     ]
    }
   ],
   "source": [
    "# engineering\n",
    "\n",
    "encoding='one_hot'\n",
    "engineer = FeatureEngineeringPreprocessor(encoding=encoding)\n",
    "engineered = engineer.fit_transform(X, y)\n",
    "print('engineered')"
   ]
  },
  {
   "cell_type": "code",
   "execution_count": 15,
   "metadata": {
    "collapsed": true,
    "execution": {
     "iopub.execute_input": "2025-04-27T23:03:25.542699Z",
     "iopub.status.busy": "2025-04-27T23:03:25.542016Z",
     "iopub.status.idle": "2025-04-27T23:06:14.336923Z",
     "shell.execute_reply": "2025-04-27T23:06:14.335981Z",
     "shell.execute_reply.started": "2025-04-27T23:03:25.542672Z"
    },
    "jupyter": {
     "outputs_hidden": true
    },
    "trusted": true
   },
   "outputs": [
    {
     "name": "stdout",
     "output_type": "stream",
     "text": [
      "Highly correlated pairs:\n",
      "C2 and C1: 0.9950922265975789\n",
      "C4 and C1: 0.9678191450801629\n",
      "C4 and C2: 0.9721683685989218\n",
      "C6 and C1: 0.9822644098898683\n",
      "C6 and C2: 0.9748799452962646\n",
      "C6 and C4: 0.9622870266344012\n",
      "C7 and C1: 0.926453560690114\n",
      "C7 and C2: 0.9390523410888787\n",
      "C7 and C4: 0.8954804876796856\n",
      "C7 and C6: 0.8589508876210122\n",
      "C8 and C1: 0.9677808071033681\n",
      "C8 and C2: 0.9758976622250058\n",
      "C8 and C4: 0.9601410514138992\n",
      "C8 and C6: 0.9220955042337347\n",
      "C8 and C7: 0.9830458297299794\n",
      "C9 and C5: 0.9257855428353142\n",
      "C10 and C1: 0.9582434265005132\n",
      "C10 and C2: 0.9706624494762316\n",
      "C10 and C4: 0.9526259389876505\n",
      "C10 and C6: 0.9145783408945913\n",
      "C10 and C7: 0.9851145588877714\n",
      "C10 and C8: 0.9969706004899238\n",
      "C11 and C1: 0.996517355975288\n",
      "C11 and C2: 0.9939048166706655\n",
      "C11 and C4: 0.9745470557188236\n",
      "C11 and C6: 0.9911159410470871\n",
      "C11 and C7: 0.9154598146020854\n",
      "C11 and C8: 0.962783340926507\n",
      "C11 and C10: 0.9561266792835369\n",
      "C12 and C1: 0.9281356723190011\n",
      "C12 and C2: 0.9404422762462694\n",
      "C12 and C4: 0.8950068199397686\n",
      "C12 and C6: 0.8585495230610953\n",
      "C12 and C7: 0.9994890608978091\n",
      "C12 and C8: 0.9830901859197262\n",
      "C12 and C10: 0.9838695736858548\n",
      "C12 and C11: 0.9159435905331753\n",
      "C13 and C6: 0.8085895328687276\n",
      "C14 and C1: 0.9517690674144003\n",
      "C14 and C2: 0.9361618448990738\n",
      "C14 and C4: 0.9075967526650176\n",
      "C14 and C6: 0.9841878071442243\n",
      "C14 and C8: 0.860340717477408\n",
      "C14 and C10: 0.8531190419751584\n",
      "C14 and C11: 0.9624565953230736\n",
      "C14 and C13: 0.8808171048608565\n",
      "D2 and D1: 0.8095097829307407\n",
      "V5 and V4: 0.9151637593210431\n",
      "V9 and V8: 0.835341586813973\n",
      "V11 and V10: 0.9686698705849051\n",
      "V13 and V12: 0.9258465083283258\n",
      "V16 and V15: 0.9867264255046059\n",
      "V17 and V15: 0.808591036338037\n",
      "V18 and V15: 0.8017532891873914\n",
      "V18 and V17: 0.9914739282018002\n",
      "V20 and V19: 0.9053305010475831\n",
      "V21 and V15: 0.8345482351603273\n",
      "V21 and V16: 0.8190078460636078\n",
      "V21 and V17: 0.9518086494647418\n",
      "V21 and V18: 0.9447543913555739\n",
      "V22 and V17: 0.9179381353062669\n",
      "V22 and V18: 0.9279131848880879\n",
      "V22 and V21: 0.9646272385891018\n",
      "V24 and V23: 0.8249551444082664\n",
      "V26 and V25: 0.8400678423686125\n",
      "V28 and V27: 0.973049409038568\n",
      "V30 and V29: 0.9579516614405766\n",
      "V31 and V15: 0.9151930676092952\n",
      "V31 and V16: 0.9032036847637233\n",
      "V31 and V17: 0.877747470271587\n",
      "V31 and V18: 0.8736796405914614\n",
      "V31 and V21: 0.912967280859055\n",
      "V31 and V22: 0.8835018355528138\n",
      "V32 and V15: 0.8995645419283418\n",
      "V32 and V16: 0.9123311932613273\n",
      "V32 and V17: 0.8604857983542198\n",
      "V32 and V18: 0.8708890554161132\n",
      "V32 and V21: 0.8949449092691385\n",
      "V32 and V22: 0.8802223734596705\n",
      "V32 and V31: 0.9862008660925367\n",
      "V33 and V15: 0.9587722211152236\n",
      "V33 and V16: 0.943634886767385\n",
      "V33 and V21: 0.8033297389834112\n",
      "V33 and V31: 0.8759449562989824\n",
      "V33 and V32: 0.8587230933831264\n",
      "V34 and V15: 0.9220014301259299\n",
      "V34 and V16: 0.931085571185494\n",
      "V34 and V31: 0.8412886246847462\n",
      "V34 and V32: 0.8467413139979937\n",
      "V34 and V33: 0.9592422409425646\n",
      "V36 and V35: 0.9315764946495236\n",
      "V38 and V37: 0.8688843734850442\n",
      "V40 and V39: 0.943888280852686\n",
      "V42 and V15: 0.8270827301140482\n",
      "V42 and V16: 0.8071735941653316\n",
      "V42 and V17: 0.8221841562878678\n",
      "V42 and V18: 0.8114951047842959\n",
      "V42 and V21: 0.8542260290257836\n",
      "V42 and V22: 0.8114393958451066\n",
      "V42 and V31: 0.8180192335300348\n",
      "V42 and V39: 0.8761428095122046\n",
      "V42 and V40: 0.8327896026632771\n",
      "V43 and V21: 0.8168502156916273\n",
      "V43 and V39: 0.8342174756891546\n",
      "V43 and V40: 0.8533366227647057\n",
      "V43 and V42: 0.9520015326756109\n",
      "V45 and V44: 0.9051006839772965\n",
      "V48 and V29: 0.8164271115880756\n",
      "V49 and V48: 0.9677437626272781\n",
      "V50 and V15: 0.9003698245362103\n",
      "V50 and V16: 0.8810402197503452\n",
      "V50 and V17: 0.8013968490959037\n",
      "V50 and V21: 0.8304902197779825\n",
      "V50 and V31: 0.8945219935802629\n",
      "V50 and V32: 0.8750348339048961\n",
      "V50 and V33: 0.8679354978009493\n",
      "V50 and V34: 0.8277382086346255\n",
      "V50 and V39: 0.8115708840464576\n",
      "V50 and V42: 0.8992516789664959\n",
      "V50 and V43: 0.8612822184255632\n",
      "V51 and V15: 0.8934106351653115\n",
      "V51 and V16: 0.8743221567177668\n",
      "V51 and V31: 0.8264850040484042\n",
      "V51 and V32: 0.8057080629657247\n",
      "V51 and V33: 0.9061259296699752\n",
      "V51 and V34: 0.868061703188103\n",
      "V51 and V42: 0.8256505207449545\n",
      "V51 and V50: 0.8756479280078869\n",
      "V52 and V15: 0.8509052410128625\n",
      "V52 and V16: 0.8327791977931208\n",
      "V52 and V33: 0.8631477956552344\n",
      "V52 and V34: 0.8488510406451932\n",
      "V52 and V50: 0.8335505226435503\n",
      "V52 and V51: 0.9520221210565568\n",
      "V54 and V53: 0.9204331154211348\n",
      "V57 and V15: 0.9340922774845243\n",
      "V57 and V16: 0.9144453222340042\n",
      "V57 and V21: 0.8044405043725179\n",
      "V57 and V31: 0.8631597040134377\n",
      "V57 and V32: 0.841789087362371\n",
      "V57 and V33: 0.9010383594404677\n",
      "V57 and V34: 0.8600231600649643\n",
      "V57 and V42: 0.8144981785426579\n",
      "V57 and V50: 0.8856892915893124\n",
      "V57 and V51: 0.8780726490669489\n",
      "V57 and V52: 0.8340948288029867\n",
      "V58 and V15: 0.903207977447759\n",
      "V58 and V16: 0.8843329666908186\n",
      "V58 and V31: 0.8346047959951369\n",
      "V58 and V32: 0.8140550998780238\n",
      "V58 and V33: 0.8713868193865794\n",
      "V58 and V34: 0.8319439298074373\n",
      "V58 and V50: 0.8556413593011338\n",
      "V58 and V51: 0.8486456627451205\n",
      "V58 and V52: 0.8077971668147647\n",
      "V58 and V57: 0.9629699687105462\n",
      "V59 and V17: 0.8330564072089407\n",
      "V59 and V18: 0.8222169106319467\n",
      "V59 and V21: 0.8477623040393033\n",
      "V59 and V22: 0.8121447803746131\n",
      "V59 and V39: 0.8289259818103127\n",
      "V59 and V42: 0.8299400131965768\n",
      "V59 and V57: 0.8241843382516738\n",
      "V60 and V17: 0.8081988091499498\n",
      "V60 and V21: 0.8158504930019922\n",
      "V60 and V39: 0.8012052895473285\n",
      "V60 and V40: 0.8040989116715562\n",
      "V60 and V58: 0.8060305243283257\n",
      "V60 and V59: 0.9532031672328122\n",
      "V62 and V61: 0.8902470007960834\n",
      "V63 and V15: 0.8152319299683806\n",
      "V63 and V17: 0.8484310019497568\n",
      "V63 and V18: 0.8375691971686623\n",
      "V63 and V21: 0.8863906686119518\n",
      "V63 and V22: 0.8573850713847752\n",
      "V63 and V31: 0.8318293494134563\n",
      "V63 and V32: 0.8098758071651732\n",
      "V63 and V42: 0.871155115650796\n",
      "V63 and V43: 0.8321566575113546\n",
      "V63 and V50: 0.8203690935834318\n",
      "V63 and V57: 0.8445826269018641\n",
      "V63 and V58: 0.8146864461857055\n",
      "V63 and V59: 0.934987253762417\n",
      "V63 and V60: 0.8922549594954956\n",
      "V64 and V17: 0.8097707877009497\n",
      "V64 and V18: 0.8001259795460812\n",
      "V64 and V21: 0.8413266804689464\n",
      "V64 and V22: 0.8417037893432348\n",
      "V64 and V42: 0.8226401065217905\n",
      "V64 and V43: 0.830453392346906\n",
      "V64 and V58: 0.8115675645482527\n",
      "V64 and V59: 0.8801536844218073\n",
      "V64 and V60: 0.9015135233662792\n",
      "V64 and V63: 0.944448222108254\n",
      "V67 and V66: 0.8280805580711638\n",
      "V69 and V29: 0.9085327103837363\n",
      "V69 and V30: 0.8772011894561835\n",
      "V69 and V48: 0.8150949912919442\n",
      "V70 and V29: 0.8793874779962448\n",
      "V70 and V30: 0.8893534919930327\n",
      "V70 and V69: 0.9621334155169059\n",
      "V71 and V15: 0.8832890344962135\n",
      "V71 and V16: 0.864740538069059\n",
      "V71 and V17: 0.8059762198090511\n",
      "V71 and V21: 0.8381860275126276\n",
      "V71 and V22: 0.8042562059025\n",
      "V71 and V31: 0.9013308612222708\n",
      "V71 and V32: 0.8808889023908347\n",
      "V71 and V33: 0.8513045503706496\n",
      "V71 and V34: 0.8119416226328052\n",
      "V71 and V42: 0.8114978639403089\n",
      "V71 and V50: 0.8861311861751308\n",
      "V71 and V51: 0.8329913498794365\n",
      "V71 and V57: 0.943164802935438\n",
      "V71 and V58: 0.9080820303105296\n",
      "V71 and V59: 0.8671069724460643\n",
      "V71 and V60: 0.8316758639393658\n",
      "V71 and V63: 0.8950650519376983\n",
      "V71 and V64: 0.8467937988991326\n",
      "V72 and V15: 0.8539556070304829\n",
      "V72 and V16: 0.8361408166954215\n",
      "V72 and V21: 0.8109685458089775\n",
      "V72 and V31: 0.8733136849717412\n",
      "V72 and V32: 0.8546678167443182\n",
      "V72 and V33: 0.823170194376875\n",
      "V72 and V50: 0.8576466475524588\n",
      "V72 and V51: 0.8048527194633003\n",
      "V72 and V57: 0.9079959919558276\n",
      "V72 and V58: 0.9437121898307183\n",
      "V72 and V59: 0.8352606888797816\n",
      "V72 and V60: 0.8405090798304509\n",
      "V72 and V63: 0.8619373491492656\n",
      "V72 and V64: 0.8552553423684052\n",
      "V72 and V71: 0.9638179594559735\n",
      "V73 and V15: 0.8899068013796723\n",
      "V73 and V16: 0.8708884794637926\n",
      "V73 and V31: 0.8215131144582778\n",
      "V73 and V32: 0.8008791043936166\n",
      "V73 and V33: 0.9123519462100529\n",
      "V73 and V34: 0.8730391845962199\n",
      "V73 and V50: 0.8435167069112728\n",
      "V73 and V51: 0.8982144936874832\n",
      "V73 and V52: 0.8543494834157348\n",
      "V73 and V57: 0.9408965958341744\n",
      "V73 and V58: 0.9062565785966405\n",
      "V73 and V63: 0.8105172492047998\n",
      "V73 and V71: 0.8859017979801846\n",
      "V73 and V72: 0.8530684502834115\n",
      "V74 and V15: 0.8548965303575435\n",
      "V74 and V16: 0.8369604117902592\n",
      "V74 and V33: 0.8780744533338196\n",
      "V74 and V34: 0.8731426606539123\n",
      "V74 and V50: 0.8086169117460281\n",
      "V74 and V51: 0.8639839066441528\n",
      "V74 and V52: 0.8533492991418874\n",
      "V74 and V57: 0.9001818238049936\n",
      "V74 and V58: 0.8859726601950584\n",
      "V74 and V71: 0.8467500937355567\n",
      "V74 and V72: 0.83339866076802\n",
      "V74 and V73: 0.9552628356582857\n",
      "V76 and V75: 0.9184484470077268\n",
      "V79 and V15: 0.9134941142456926\n",
      "V79 and V16: 0.8944891238957166\n",
      "V79 and V31: 0.8418144868205162\n",
      "V79 and V32: 0.8210637417669506\n",
      "V79 and V33: 0.8796595183438475\n",
      "V79 and V34: 0.8394154502002948\n",
      "V79 and V50: 0.8641434377307609\n",
      "V79 and V51: 0.8612719350370334\n",
      "V79 and V52: 0.8213748574041158\n",
      "V79 and V57: 0.9067281324421439\n",
      "V79 and V58: 0.9281890176899894\n",
      "V79 and V71: 0.8581342788309838\n",
      "V79 and V72: 0.8787855680869294\n",
      "V79 and V73: 0.852705777920718\n",
      "V79 and V74: 0.8198939347255674\n",
      "V80 and V17: 0.8507872363650438\n",
      "V80 and V18: 0.8409739070635257\n",
      "V80 and V21: 0.820494068934489\n",
      "V80 and V39: 0.865693073848597\n",
      "V80 and V40: 0.8275028393873324\n",
      "V80 and V42: 0.8288107990692973\n",
      "V80 and V59: 0.8489693354777682\n",
      "V80 and V60: 0.8176423284580918\n",
      "V80 and V63: 0.8140406462737195\n",
      "V81 and V17: 0.824412926805974\n",
      "V81 and V18: 0.8193853415224123\n",
      "V81 and V39: 0.8293006534690376\n",
      "V81 and V40: 0.8379924412842313\n",
      "V81 and V59: 0.813958133731755\n",
      "V81 and V60: 0.8276318934507323\n",
      "V81 and V80: 0.9532229429347565\n",
      "V83 and V82: 0.8816315465534996\n",
      "V84 and V15: 0.8184721351975744\n",
      "V84 and V17: 0.8529718917577678\n",
      "V84 and V18: 0.8441662169644134\n",
      "V84 and V21: 0.8920693518724513\n",
      "V84 and V22: 0.8586454697398994\n",
      "V84 and V31: 0.8464064761638529\n",
      "V84 and V32: 0.8245037560334744\n",
      "V84 and V39: 0.801493983437767\n",
      "V84 and V42: 0.9066237873508195\n",
      "V84 and V43: 0.8656292653109382\n",
      "V84 and V50: 0.8477169436338705\n",
      "V84 and V57: 0.8100099256864205\n",
      "V84 and V59: 0.844382780408906\n",
      "V84 and V60: 0.8124678038910884\n",
      "V84 and V63: 0.8939907841688346\n",
      "V84 and V64: 0.8469947167160354\n",
      "V84 and V71: 0.8353026900382613\n",
      "V84 and V72: 0.8082592294174282\n",
      "V84 and V80: 0.8963846758726276\n",
      "V84 and V81: 0.8600061519402881\n",
      "V85 and V17: 0.8079591594905813\n",
      "V85 and V18: 0.8033460644388204\n",
      "V85 and V21: 0.8399000890854079\n",
      "V85 and V22: 0.8280305353632388\n",
      "V85 and V42: 0.8458073396267413\n",
      "V85 and V43: 0.856351278554011\n",
      "V85 and V60: 0.8002899963669261\n",
      "V85 and V63: 0.8406255689357072\n",
      "V85 and V64: 0.8579348811000411\n",
      "V85 and V79: 0.8057053818334359\n",
      "V85 and V80: 0.8404284421137158\n",
      "V85 and V81: 0.8751296310671124\n",
      "V85 and V84: 0.9371552615512058\n",
      "V87 and V86: 0.8494421009166463\n",
      "V90 and V29: 0.9158893700524801\n",
      "V90 and V30: 0.8864591152769957\n",
      "V90 and V48: 0.8548233519826121\n",
      "V90 and V49: 0.8303030148436867\n",
      "V90 and V69: 0.909226833249667\n",
      "V90 and V70: 0.88139200822246\n",
      "V91 and V29: 0.881812740465228\n",
      "V91 and V30: 0.9008987409191559\n",
      "V91 and V48: 0.8206291405056938\n",
      "V91 and V49: 0.8352279037762729\n",
      "V91 and V69: 0.8759716009687155\n",
      "V91 and V70: 0.892527678585861\n",
      "V91 and V90: 0.9596915161082136\n",
      "V92 and V15: 0.882261543549431\n",
      "V92 and V16: 0.8636682570635796\n",
      "V92 and V17: 0.8110500978937056\n",
      "V92 and V18: 0.8032514103684348\n",
      "V92 and V21: 0.8434876337666015\n",
      "V92 and V22: 0.8122489351895147\n",
      "V92 and V31: 0.9142949103092581\n",
      "V92 and V32: 0.8944658700770166\n",
      "V92 and V33: 0.8488797444190358\n",
      "V92 and V34: 0.8092356209076669\n",
      "V92 and V42: 0.8330484119373261\n",
      "V92 and V50: 0.9162210791296415\n",
      "V92 and V51: 0.8328636439416629\n",
      "V92 and V57: 0.8783718501835024\n",
      "V92 and V58: 0.8499066249117819\n",
      "V92 and V63: 0.8300940944731631\n",
      "V92 and V71: 0.9090278792310541\n",
      "V92 and V72: 0.8822693999545735\n",
      "V92 and V73: 0.8265395703846173\n",
      "V92 and V79: 0.8880999698032598\n",
      "V92 and V80: 0.8315465287010259\n",
      "V92 and V81: 0.801279834945593\n",
      "V92 and V84: 0.8908800051479558\n",
      "V92 and V85: 0.8412207962138468\n",
      "V93 and V15: 0.8467338327731069\n",
      "V93 and V16: 0.8291549834274681\n",
      "V93 and V21: 0.8131655791047073\n",
      "V93 and V31: 0.8801760990750647\n",
      "V93 and V32: 0.8633788333484315\n",
      "V93 and V33: 0.8144584376106687\n",
      "V93 and V42: 0.8020380897722095\n",
      "V93 and V50: 0.8796985111894159\n",
      "V93 and V57: 0.84371091882802\n",
      "V93 and V58: 0.8643381414010483\n",
      "V93 and V71: 0.8749096507639811\n",
      "V93 and V72: 0.8961223560613911\n",
      "V93 and V79: 0.9240250613797293\n",
      "V93 and V80: 0.8007963836196892\n",
      "V93 and V81: 0.8085590368599372\n",
      "V93 and V84: 0.8583919875857595\n",
      "V93 and V85: 0.8702195666135243\n",
      "V93 and V92: 0.9631071227599048\n",
      "V94 and V15: 0.9376892196505987\n",
      "V94 and V16: 0.9174605136828414\n",
      "V94 and V21: 0.8007785252044334\n",
      "V94 and V31: 0.8631902009662634\n",
      "V94 and V32: 0.8412207603769503\n",
      "V94 and V33: 0.9590397642378453\n",
      "V94 and V34: 0.9174271499069494\n",
      "V94 and V42: 0.8158620581649135\n",
      "V94 and V50: 0.8883538290955098\n",
      "V94 and V51: 0.929398328736557\n",
      "V94 and V52: 0.8844554878618183\n",
      "V94 and V57: 0.9182566135835784\n",
      "V94 and V58: 0.8873991195712407\n",
      "V94 and V63: 0.8048867539833976\n",
      "V94 and V71: 0.8681102143712285\n",
      "V94 and V72: 0.8386958149271275\n",
      "V94 and V73: 0.9279368356072112\n",
      "V94 and V74: 0.8915360639118685\n",
      "V94 and V79: 0.9040949032865012\n",
      "V94 and V84: 0.8056146770174193\n",
      "V94 and V92: 0.8668534005338439\n",
      "V94 and V93: 0.8315222426798917\n",
      "V96 and V95: 0.9414428251872823\n",
      "V97 and V95: 0.9360493005803543\n",
      "V97 and V96: 0.9907965815485159\n",
      "V100 and V99: 0.8378089841031587\n",
      "V101 and V95: 0.9995943001196385\n",
      "V101 and V96: 0.9384081984065917\n",
      "V101 and V97: 0.9318511809703282\n",
      "V102 and V95: 0.9486838072502419\n",
      "V102 and V96: 0.9971042465642582\n",
      "V102 and V97: 0.988533442891635\n",
      "V102 and V101: 0.9468054766477374\n",
      "V103 and V95: 0.941031192912999\n",
      "V103 and V96: 0.9906764687645985\n",
      "V103 and V97: 0.9987886116882368\n",
      "V103 and V101: 0.9378836406831275\n",
      "V103 and V102: 0.9915155471919185\n",
      "V105 and V95: 0.8333769891659988\n",
      "V105 and V96: 0.9331821341830129\n",
      "V105 and V97: 0.9434958627344032\n",
      "V105 and V101: 0.8237832902321531\n",
      "V105 and V102: 0.9176183972991276\n",
      "V105 and V103: 0.9321351022576652\n",
      "V105 and V104: 0.8240619267898149\n",
      "V106 and V96: 0.8554889434638117\n",
      "V106 and V97: 0.887752342492374\n",
      "V106 and V102: 0.8361385587990909\n",
      "V106 and V103: 0.8697849500533537\n",
      "V106 and V104: 0.9023564338806292\n",
      "V106 and V105: 0.9609366144174764\n",
      "V110 and V108: 0.8176454764048768\n",
      "V113 and V111: 0.9234405351998507\n",
      "V113 and V112: 0.8518419306276703\n",
      "V116 and V114: 0.8005908871478002\n",
      "V119 and V117: 0.8691069660819771\n",
      "V125 and V123: 0.8190185028251427\n",
      "V126 and V95: 0.9819998930606387\n",
      "V126 and V96: 0.9262479144235394\n",
      "V126 and V97: 0.9197571382755546\n",
      "V126 and V101: 0.9811835626188988\n",
      "V126 and V102: 0.9332968497535292\n",
      "V126 and V103: 0.9243992159822361\n",
      "V126 and V105: 0.8226508786888315\n",
      "V127 and V95: 0.9333175613511335\n",
      "V127 and V96: 0.9878751956822192\n",
      "V127 and V97: 0.9780298310052291\n",
      "V127 and V101: 0.930398326946081\n",
      "V127 and V102: 0.9865705889599695\n",
      "V127 and V103: 0.9785474286482588\n",
      "V127 and V105: 0.9202798802896545\n",
      "V127 and V106: 0.8412718113263952\n",
      "V127 and V126: 0.9401394813955117\n",
      "V128 and V95: 0.9277719991036717\n",
      "V128 and V96: 0.9790086153511983\n",
      "V128 and V97: 0.9862355607382092\n",
      "V128 and V101: 0.9236245814194419\n",
      "V128 and V102: 0.9777798978085378\n",
      "V128 and V103: 0.9855056031669377\n",
      "V128 and V105: 0.9295135457976607\n",
      "V128 and V106: 0.8717081759626618\n",
      "V128 and V126: 0.9401258885089253\n",
      "V128 and V127: 0.9889744343596587\n",
      "V132 and V95: 0.9952584398438168\n",
      "V132 and V96: 0.9365954693217193\n",
      "V132 and V97: 0.9286467659679621\n",
      "V132 and V101: 0.9956374741465394\n",
      "V132 and V102: 0.944926164217109\n",
      "V132 and V103: 0.9346253639854224\n",
      "V132 and V105: 0.8230937948394437\n",
      "V132 and V126: 0.9883513328535334\n",
      "V132 and V127: 0.9355967085767564\n",
      "V132 and V128: 0.9298145183976282\n",
      "V133 and V95: 0.9461871640942647\n",
      "V133 and V96: 0.9923259195269675\n",
      "V133 and V97: 0.9824073988475303\n",
      "V133 and V101: 0.9445064987600802\n",
      "V133 and V102: 0.9956153370815314\n",
      "V133 and V103: 0.9856719158919001\n",
      "V133 and V105: 0.9107423967424135\n",
      "V133 and V106: 0.8266116285297859\n",
      "V133 and V126: 0.938130052975356\n",
      "V133 and V127: 0.9922620068069449\n",
      "V133 and V128: 0.9805919467609617\n",
      "V133 and V132: 0.9482070535424018\n",
      "V134 and V95: 0.9410299756801199\n",
      "V134 and V96: 0.9882728917234544\n",
      "V134 and V97: 0.994022326954919\n",
      "V134 and V101: 0.9381770446016257\n",
      "V134 and V102: 0.9897639866139679\n",
      "V134 and V103: 0.9957351059103148\n",
      "V134 and V105: 0.925464280830518\n",
      "V134 and V106: 0.8588024886037805\n",
      "V134 and V126: 0.9340684768981484\n",
      "V134 and V127: 0.9850706865192062\n",
      "V134 and V128: 0.991357174628447\n",
      "V134 and V132: 0.9422928191977951\n",
      "V134 and V133: 0.9911305901249624\n",
      "V137 and V135: 0.9133476508475253\n",
      "V137 and V136: 0.9348244544352958\n",
      "V279 and V95: 0.9987090421924132\n",
      "V279 and V96: 0.9404749184377926\n",
      "V279 and V97: 0.9347579556401274\n",
      "V279 and V101: 0.9984524776714939\n",
      "V279 and V102: 0.9479132953557518\n",
      "V279 and V103: 0.9399284058650255\n",
      "V279 and V105: 0.8316027275058316\n",
      "V279 and V126: 0.9806937329401927\n",
      "V279 and V127: 0.9323223991260683\n",
      "V279 and V128: 0.9264907837312435\n",
      "V279 and V132: 0.99418131952714\n",
      "V279 and V133: 0.9454452372245411\n",
      "V279 and V134: 0.9400111197864783\n",
      "V280 and V95: 0.9268500523630898\n",
      "V280 and V96: 0.980596464564586\n",
      "V280 and V97: 0.9891356236578257\n",
      "V280 and V101: 0.922857948635047\n",
      "V280 and V102: 0.9786194715948829\n",
      "V280 and V103: 0.988209544055612\n",
      "V280 and V105: 0.9323631693880152\n",
      "V280 and V106: 0.8750840475001831\n",
      "V280 and V126: 0.9106682430120158\n",
      "V280 and V127: 0.967874525525584\n",
      "V280 and V128: 0.9755849146646475\n",
      "V280 and V132: 0.9197395415476987\n",
      "V280 and V133: 0.9726194192934361\n",
      "V280 and V134: 0.9836868949195832\n",
      "V280 and V279: 0.9310093751959754\n",
      "V285 and V99: 0.8583580626893599\n",
      "V287 and V100: 0.8637852730632372\n",
      "V287 and V285: 0.830787363549791\n",
      "V289 and V288: 0.8883439854454962\n",
      "V292 and V290: 0.8173019987955389\n",
      "V292 and V291: 0.9654621516226475\n",
      "V293 and V95: 0.9984741495344188\n",
      "V293 and V96: 0.9373909908280434\n",
      "V293 and V97: 0.9307588272919055\n",
      "V293 and V101: 0.9989180514850057\n",
      "V293 and V102: 0.9458690998588286\n",
      "V293 and V103: 0.9368511965227689\n",
      "V293 and V105: 0.8226916528991666\n",
      "V293 and V126: 0.980071941191469\n",
      "V293 and V127: 0.929371635116332\n",
      "V293 and V128: 0.9225421780716121\n",
      "V293 and V132: 0.994566694021366\n",
      "V293 and V133: 0.9435679550600102\n",
      "V293 and V134: 0.9371628027218166\n",
      "V293 and V279: 0.9995682112788822\n",
      "V293 and V280: 0.9269424226884783\n",
      "V294 and V95: 0.8622275877474082\n",
      "V294 and V96: 0.9062285053127066\n",
      "V294 and V97: 0.8984071973799584\n",
      "V294 and V101: 0.8605732343906083\n",
      "V294 and V102: 0.9090474793419777\n",
      "V294 and V103: 0.9011962833633972\n",
      "V294 and V105: 0.8339333441670004\n",
      "V294 and V126: 0.8481777723003325\n",
      "V294 and V127: 0.8964440985081504\n",
      "V294 and V128: 0.8885748170981428\n",
      "V294 and V132: 0.8588619578068294\n",
      "V294 and V133: 0.9049530755095215\n",
      "V294 and V134: 0.8996283469861196\n",
      "V294 and V279: 0.8735310501287451\n",
      "V294 and V280: 0.9460954244401732\n",
      "V294 and V293: 0.871863938836367\n",
      "V295 and V95: 0.9301086266789407\n",
      "V295 and V96: 0.9791502317683152\n",
      "V295 and V97: 0.9870502654617255\n",
      "V295 and V101: 0.9270457301532153\n",
      "V295 and V102: 0.9801097382591032\n",
      "V295 and V103: 0.988345367793116\n",
      "V295 and V105: 0.9211715580206444\n",
      "V295 and V106: 0.858722776739353\n",
      "V295 and V126: 0.913674373127493\n",
      "V295 and V127: 0.9671423409310647\n",
      "V295 and V128: 0.9739828349929469\n",
      "V295 and V132: 0.9238615109185271\n",
      "V295 and V133: 0.9743575774688659\n",
      "V295 and V134: 0.9842298529606467\n",
      "V295 and V279: 0.9343329652789782\n",
      "V295 and V280: 0.9986233885665831\n",
      "V295 and V293: 0.9313241874809514\n",
      "V295 and V294: 0.9510356585427168\n",
      "V296 and V96: 0.8908409296501678\n",
      "V296 and V97: 0.8978104362355822\n",
      "V296 and V102: 0.8741670724095845\n",
      "V296 and V103: 0.8862388665113703\n",
      "V296 and V105: 0.9600623533269368\n",
      "V296 and V106: 0.9157566071178651\n",
      "V296 and V127: 0.8780176336073152\n",
      "V296 and V128: 0.8842533799402221\n",
      "V296 and V133: 0.8680503706453069\n",
      "V296 and V134: 0.880199903038585\n",
      "V296 and V280: 0.9036592583482601\n",
      "V296 and V294: 0.8318863635155671\n",
      "V296 and V295: 0.8904402763502922\n",
      "V297 and V104: 0.9175291174464918\n",
      "V297 and V105: 0.8065543484026676\n",
      "V297 and V106: 0.8602048066509734\n",
      "V298 and V95: 0.8132018858836131\n",
      "V298 and V96: 0.9129097599846094\n",
      "V298 and V97: 0.9214634543996731\n",
      "V298 and V101: 0.8039756007051915\n",
      "V298 and V102: 0.8972781239538091\n",
      "V298 and V103: 0.9102385826737174\n",
      "V298 and V105: 0.9782805582243431\n",
      "V298 and V106: 0.9362113094867678\n",
      "V298 and V126: 0.8027157665819801\n",
      "V298 and V127: 0.8998462228208078\n",
      "V298 and V128: 0.9077210666367932\n",
      "V298 and V132: 0.8035444276341542\n",
      "V298 and V133: 0.8906446165600698\n",
      "V298 and V134: 0.9039954990071576\n",
      "V298 and V279: 0.8152417715978896\n",
      "V298 and V280: 0.9221760060963583\n",
      "V298 and V293: 0.8054662848448112\n",
      "V298 and V294: 0.8375790352931048\n",
      "V298 and V295: 0.9091305585222398\n",
      "V298 and V296: 0.9902615646237453\n",
      "V298 and V297: 0.8179087933546414\n",
      "V299 and V96: 0.8566428580428791\n",
      "V299 and V97: 0.8841996583589827\n",
      "V299 and V102: 0.838812092626769\n",
      "V299 and V103: 0.8678289380759808\n",
      "V299 and V104: 0.8713183595228287\n",
      "V299 and V105: 0.950769467196186\n",
      "V299 and V106: 0.9770186378524919\n",
      "V299 and V127: 0.842696825000619\n",
      "V299 and V128: 0.8689493863186014\n",
      "V299 and V133: 0.8299446910770534\n",
      "V299 and V134: 0.8580987464382395\n",
      "V299 and V280: 0.878577141228329\n",
      "V299 and V295: 0.8603056595870117\n",
      "V299 and V296: 0.9368204900645563\n",
      "V299 and V297: 0.8943653952366839\n",
      "V299 and V298: 0.9556150202830319\n",
      "V301 and V300: 0.9281094054805429\n",
      "V303 and V302: 0.8788171726557635\n",
      "V304 and V302: 0.9627811892073185\n",
      "V304 and V303: 0.9378307113839783\n",
      "V306 and V95: 0.9794069525743516\n",
      "V306 and V96: 0.9240632543407911\n",
      "V306 and V97: 0.9172924793905876\n",
      "V306 and V101: 0.9788107731807149\n",
      "V306 and V102: 0.9313388517289066\n",
      "V306 and V103: 0.9221646752836926\n",
      "V306 and V105: 0.8195476817410594\n",
      "V306 and V126: 0.9918505858343377\n",
      "V306 and V127: 0.9348598999533526\n",
      "V306 and V128: 0.9333754992426292\n",
      "V306 and V132: 0.9846267188591272\n",
      "V306 and V133: 0.9354131605377726\n",
      "V306 and V134: 0.9308020378600705\n",
      "V306 and V279: 0.9804658777192465\n",
      "V306 and V280: 0.9123307822020004\n",
      "V306 and V293: 0.9795391216598146\n",
      "V306 and V294: 0.8540468351903877\n",
      "V306 and V295: 0.9152158126495101\n",
      "V306 and V298: 0.8042726798186063\n",
      "V307 and V95: 0.8953584779005409\n",
      "V307 and V96: 0.9475568915578616\n",
      "V307 and V97: 0.9379539231816169\n",
      "V307 and V101: 0.8926703638495308\n",
      "V307 and V102: 0.9465229371651127\n",
      "V307 and V103: 0.938520333273247\n",
      "V307 and V105: 0.8821910792371038\n",
      "V307 and V106: 0.8048921091301584\n",
      "V307 and V126: 0.8991661358286012\n",
      "V307 and V127: 0.9573859494828779\n",
      "V307 and V128: 0.9464423744640955\n",
      "V307 and V132: 0.8972019231367249\n",
      "V307 and V133: 0.9522185884868533\n",
      "V307 and V134: 0.944830533800898\n",
      "V307 and V279: 0.9027966116819635\n",
      "V307 and V280: 0.9658707581221959\n",
      "V307 and V293: 0.8998211482395582\n",
      "V307 and V294: 0.9704661820955791\n",
      "V307 and V295: 0.9665882619632005\n",
      "V307 and V296: 0.8745109916981533\n",
      "V307 and V298: 0.8839847146041094\n",
      "V307 and V299: 0.8153002866143967\n",
      "V307 and V306: 0.9079193430270133\n",
      "V308 and V95: 0.920860085955194\n",
      "V308 and V96: 0.9713013110955585\n",
      "V308 and V97: 0.9779796038270389\n",
      "V308 and V101: 0.9169527635036037\n",
      "V308 and V102: 0.970408416399862\n",
      "V308 and V103: 0.9775723983450324\n",
      "V308 and V105: 0.9207154621873657\n",
      "V308 and V106: 0.8611977751437383\n",
      "V308 and V126: 0.9290550636346275\n",
      "V308 and V127: 0.9791337090504693\n",
      "V308 and V128: 0.9887516170926548\n",
      "V308 and V132: 0.9222452104770682\n",
      "V308 and V133: 0.9730465548623621\n",
      "V308 and V134: 0.983078020239973\n",
      "V308 and V279: 0.923769091358341\n",
      "V308 and V280: 0.9824780314765201\n",
      "V308 and V293: 0.9196175503883363\n",
      "V308 and V294: 0.9183977062288834\n",
      "V308 and V295: 0.9810437372428815\n",
      "V308 and V296: 0.8900687499080218\n",
      "V308 and V298: 0.910012497991789\n",
      "V308 and V299: 0.8670771375673424\n",
      "V308 and V306: 0.9369886997104292\n",
      "V308 and V307: 0.9710690684720583\n",
      "V309 and V129: 0.9207789869813724\n",
      "V310 and V130: 0.8411221943033486\n",
      "V311 and V129: 0.8686396908951577\n",
      "V311 and V309: 0.8829264331751236\n",
      "V312 and V131: 0.8701875464857728\n",
      "V315 and V313: 0.9184331814076114\n",
      "V315 and V314: 0.8399116185843838\n",
      "V316 and V95: 0.9927286776745483\n",
      "V316 and V96: 0.934262968103484\n",
      "V316 and V97: 0.9262580795341753\n",
      "V316 and V101: 0.993152470357171\n",
      "V316 and V102: 0.9426676483421793\n",
      "V316 and V103: 0.9322932721912055\n",
      "V316 and V105: 0.8208253572573246\n",
      "V316 and V126: 0.9854795252856403\n",
      "V316 and V127: 0.9331164479664736\n",
      "V316 and V128: 0.9271882466216466\n",
      "V316 and V132: 0.9972224867076495\n",
      "V316 and V133: 0.9458209354482021\n",
      "V316 and V134: 0.9397711303207025\n",
      "V316 and V279: 0.9935269133595245\n",
      "V316 and V280: 0.9211121163378004\n",
      "V316 and V293: 0.9938425525272386\n",
      "V316 and V294: 0.8646167771079435\n",
      "V316 and V295: 0.9252942458468337\n",
      "V316 and V298: 0.8037751369751035\n",
      "V316 and V306: 0.9877694770865754\n",
      "V316 and V307: 0.9030728845181757\n",
      "V316 and V308: 0.9262221516593891\n",
      "V317 and V95: 0.9025272248861346\n",
      "V317 and V96: 0.9465305170295959\n",
      "V317 and V97: 0.937076800606119\n",
      "V317 and V101: 0.9009685041642687\n",
      "V317 and V102: 0.9498350996614247\n",
      "V317 and V103: 0.9402598355421719\n",
      "V317 and V105: 0.8688457451608705\n",
      "V317 and V126: 0.8947948367424249\n",
      "V317 and V127: 0.946849955746375\n",
      "V317 and V128: 0.9357102970516786\n",
      "V317 and V132: 0.904519989151963\n",
      "V317 and V133: 0.9545439910222306\n",
      "V317 and V134: 0.9458998099321385\n",
      "V317 and V279: 0.9104170884299269\n",
      "V317 and V280: 0.9675072289307969\n",
      "V317 and V293: 0.9087106966938291\n",
      "V317 and V294: 0.9831194363648904\n",
      "V317 and V295: 0.9715040827736384\n",
      "V317 and V296: 0.8573963881184269\n",
      "V317 and V298: 0.8672584891949865\n",
      "V317 and V306: 0.9006749796008546\n",
      "V317 and V307: 0.9917235292090665\n",
      "V317 and V308: 0.9587061774513093\n",
      "V317 and V316: 0.9105479113404646\n",
      "V318 and V95: 0.9333570865117996\n",
      "V318 and V96: 0.980261387060645\n",
      "V318 and V97: 0.9858317575114972\n",
      "V318 and V101: 0.9305756016140555\n",
      "V318 and V102: 0.9818669236373256\n",
      "V318 and V103: 0.9876297492751371\n",
      "V318 and V105: 0.9178004883995562\n",
      "V318 and V106: 0.8508233675385771\n",
      "V318 and V126: 0.926334492314174\n",
      "V318 and V127: 0.977370862031438\n",
      "V318 and V128: 0.9834449594302485\n",
      "V318 and V132: 0.9346028671293147\n",
      "V318 and V133: 0.9835316067233513\n",
      "V318 and V134: 0.9921667996981836\n",
      "V318 and V279: 0.9362112768319585\n",
      "V318 and V280: 0.99064858720629\n",
      "V318 and V293: 0.9333548826806655\n",
      "V318 and V294: 0.9314390569838928\n",
      "V318 and V295: 0.9918852624951409\n",
      "V318 and V296: 0.8844197212079072\n",
      "V318 and V298: 0.9045483007870396\n",
      "V318 and V299: 0.8536823534257117\n",
      "V318 and V306: 0.929794019078085\n",
      "V318 and V307: 0.9675395597854929\n",
      "V318 and V308: 0.9907242666900754\n",
      "V318 and V316: 0.9384243519879073\n",
      "V318 and V317: 0.9701846138728064\n",
      "V320 and V136: 0.8547610709389108\n",
      "V321 and V319: 0.9219231609762533\n",
      "V321 and V320: 0.9374996446478198\n",
      "ProductCD_W and V302: 0.8918884125516247\n",
      "ProductCD_W and V304: 0.8538449166443549\n",
      "card4_visa and card4_mastercard: 0.9445005411976033\n",
      "card6_debit and card6_credit: 0.9997980218169501\n",
      "M4_M2 and V15: 0.8287909178367826\n",
      "M4_M2 and V16: 0.8098665867339387\n",
      "M4_M2 and V33: 0.8021391630459965\n",
      "M4_M2 and V57: 0.815334847936132\n",
      "M4_M2 and V94: 0.8227340128425977\n",
      "Columns to drop: ['V73', 'V295', 'V21', 'V92', 'V70', 'V321', 'V291', 'V306', 'C1', 'D2', 'V72', 'V30', 'V133', 'V125', 'V314', 'C10', 'V110', 'V297', 'V127', 'C13', 'V280', 'V137', 'C4', 'M4_M2', 'V74', 'V119', 'V80', 'V105', 'V29', 'V34', 'V28', 'V303', 'V136', 'V60', 'V24', 'V134', 'V129', 'V308', 'V128', 'V39', 'V64', 'V313', 'V50', 'V49', 'V87', 'V82', 'V292', 'V69', 'C6', 'V19', 'V279', 'V32', 'V36', 'C8', 'V37', 'V130', 'V59', 'V43', 'V132', 'V112', 'V66', 'V96', 'V101', 'V58', 'V25', 'V131', 'V13', 'V63', 'V79', 'V76', 'V15', 'V319', 'V48', 'V18', 'C12', 'V311', 'V317', 'V126', 'V44', 'V102', 'C14', 'V288', 'V91', 'V300', 'card6_debit', 'V31', 'V103', 'V116', 'V294', 'V22', 'V293', 'V33', 'V318', 'V316', 'V54', 'V302', 'V84', 'card4_visa', 'V61', 'V71', 'V8', 'V16', 'C11', 'V93', 'V57', 'V85', 'V42', 'V304', 'V285', 'V296', 'V100', 'V298', 'V81', 'V4', 'V11', 'V113', 'V94', 'V299', 'V97', 'C7', 'C5', 'V106', 'V95', 'V51']\n",
      "selected (dropped)\n"
     ]
    }
   ],
   "source": [
    "# selecting\n",
    "\n",
    "corr_threshold = 0.8\n",
    "\n",
    "to_drop_corr = correlation_filter(engineered, y, threshold=corr_threshold, log=True)\n",
    "selected = engineered.drop(columns=to_drop_corr)\n",
    "print('selected (dropped)')"
   ]
  },
  {
   "cell_type": "code",
   "execution_count": null,
   "metadata": {
    "trusted": true
   },
   "outputs": [],
   "source": [
    "selected = engineered.drop(columns=to_drop_corr)"
   ]
  },
  {
   "cell_type": "code",
   "execution_count": null,
   "metadata": {
    "trusted": true
   },
   "outputs": [],
   "source": [
    "# feature importance\n",
    "ranked_features_df = model_feature_importance(model, sampled)"
   ]
  },
  {
   "cell_type": "code",
   "execution_count": 20,
   "metadata": {
    "execution": {
     "iopub.execute_input": "2025-04-27T23:16:18.335403Z",
     "iopub.status.busy": "2025-04-27T23:16:18.335103Z",
     "iopub.status.idle": "2025-04-27T23:16:38.445303Z",
     "shell.execute_reply": "2025-04-27T23:16:38.444320Z",
     "shell.execute_reply.started": "2025-04-27T23:16:18.335380Z"
    },
    "trusted": true
   },
   "outputs": [],
   "source": [
    "# shap\n",
    "ranked_features_df = shap_feature_importance(model, sampled)"
   ]
  },
  {
   "cell_type": "code",
   "execution_count": 21,
   "metadata": {
    "execution": {
     "iopub.execute_input": "2025-04-27T23:17:01.767071Z",
     "iopub.status.busy": "2025-04-27T23:17:01.766743Z",
     "iopub.status.idle": "2025-04-27T23:17:01.948933Z",
     "shell.execute_reply": "2025-04-27T23:17:01.947966Z",
     "shell.execute_reply.started": "2025-04-27T23:17:01.767049Z"
    },
    "trusted": true
   },
   "outputs": [
    {
     "data": {
      "text/html": [
       "<div>\n",
       "<style scoped>\n",
       "    .dataframe tbody tr th:only-of-type {\n",
       "        vertical-align: middle;\n",
       "    }\n",
       "\n",
       "    .dataframe tbody tr th {\n",
       "        vertical-align: top;\n",
       "    }\n",
       "\n",
       "    .dataframe thead th {\n",
       "        text-align: right;\n",
       "    }\n",
       "</style>\n",
       "<table border=\"1\" class=\"dataframe\">\n",
       "  <thead>\n",
       "    <tr style=\"text-align: right;\">\n",
       "      <th></th>\n",
       "      <th>feature</th>\n",
       "      <th>importance</th>\n",
       "    </tr>\n",
       "  </thead>\n",
       "  <tbody>\n",
       "    <tr>\n",
       "      <th>0</th>\n",
       "      <td>C9</td>\n",
       "      <td>0.102363</td>\n",
       "    </tr>\n",
       "    <tr>\n",
       "      <th>1</th>\n",
       "      <td>V287</td>\n",
       "      <td>0.050523</td>\n",
       "    </tr>\n",
       "    <tr>\n",
       "      <th>2</th>\n",
       "      <td>V40</td>\n",
       "      <td>0.044257</td>\n",
       "    </tr>\n",
       "    <tr>\n",
       "      <th>3</th>\n",
       "      <td>TransactionAmt</td>\n",
       "      <td>0.029672</td>\n",
       "    </tr>\n",
       "    <tr>\n",
       "      <th>4</th>\n",
       "      <td>V17</td>\n",
       "      <td>0.029077</td>\n",
       "    </tr>\n",
       "    <tr>\n",
       "      <th>5</th>\n",
       "      <td>TransactionDT</td>\n",
       "      <td>0.028668</td>\n",
       "    </tr>\n",
       "    <tr>\n",
       "      <th>6</th>\n",
       "      <td>D3</td>\n",
       "      <td>0.027061</td>\n",
       "    </tr>\n",
       "    <tr>\n",
       "      <th>7</th>\n",
       "      <td>D1</td>\n",
       "      <td>0.020927</td>\n",
       "    </tr>\n",
       "    <tr>\n",
       "      <th>8</th>\n",
       "      <td>V86</td>\n",
       "      <td>0.016778</td>\n",
       "    </tr>\n",
       "    <tr>\n",
       "      <th>9</th>\n",
       "      <td>V283</td>\n",
       "      <td>0.013075</td>\n",
       "    </tr>\n",
       "  </tbody>\n",
       "</table>\n",
       "</div>"
      ],
      "text/plain": [
       "          feature  importance\n",
       "0              C9    0.102363\n",
       "1            V287    0.050523\n",
       "2             V40    0.044257\n",
       "3  TransactionAmt    0.029672\n",
       "4             V17    0.029077\n",
       "5   TransactionDT    0.028668\n",
       "6              D3    0.027061\n",
       "7              D1    0.020927\n",
       "8             V86    0.016778\n",
       "9            V283    0.013075"
      ]
     },
     "execution_count": 21,
     "metadata": {},
     "output_type": "execute_result"
    }
   ],
   "source": [
    "ranked_features_df.head(10)"
   ]
  },
  {
   "cell_type": "code",
   "execution_count": 22,
   "metadata": {
    "execution": {
     "iopub.execute_input": "2025-04-27T23:17:02.779703Z",
     "iopub.status.busy": "2025-04-27T23:17:02.779320Z",
     "iopub.status.idle": "2025-04-27T23:17:03.235113Z",
     "shell.execute_reply": "2025-04-27T23:17:03.234115Z",
     "shell.execute_reply.started": "2025-04-27T23:17:02.779679Z"
    },
    "trusted": true
   },
   "outputs": [
    {
     "name": "stdout",
     "output_type": "stream",
     "text": [
      "selected\n"
     ]
    }
   ],
   "source": [
    "# selecting (feature importance or shap)\n",
    "n_features_to_select = 30\n",
    "to_stay = ranked_features_df[:n_features_to_select]['feature']\n",
    "\n",
    "selector = FeatureSelectionPreprocessor(selected_features=to_stay)\n",
    "selected = selector.fit_transform(engineered, y)\n",
    "print('selected')"
   ]
  },
  {
   "cell_type": "code",
   "execution_count": null,
   "metadata": {
    "trusted": true
   },
   "outputs": [],
   "source": [
    "# sampling\n",
    "\n",
    "sampler = SMOTE(random_state=42)\n",
    "sampled, sampled_y = sampler.fit_resample(selected, y)\n",
    "print('sampled')"
   ]
  },
  {
   "cell_type": "code",
   "execution_count": 23,
   "metadata": {
    "execution": {
     "iopub.execute_input": "2025-04-27T23:17:07.169829Z",
     "iopub.status.busy": "2025-04-27T23:17:07.169051Z",
     "iopub.status.idle": "2025-04-27T23:17:07.177115Z",
     "shell.execute_reply": "2025-04-27T23:17:07.175990Z",
     "shell.execute_reply.started": "2025-04-27T23:17:07.169804Z"
    },
    "trusted": true
   },
   "outputs": [
    {
     "name": "stdout",
     "output_type": "stream",
     "text": [
      "not sampled\n"
     ]
    }
   ],
   "source": [
    "# no sampling\n",
    "\n",
    "sampler = None\n",
    "sampled = selected\n",
    "sampled_y = y\n",
    "print('not sampled')"
   ]
  },
  {
   "cell_type": "code",
   "execution_count": 55,
   "metadata": {
    "execution": {
     "iopub.execute_input": "2025-04-27T23:39:30.652331Z",
     "iopub.status.busy": "2025-04-27T23:39:30.651503Z",
     "iopub.status.idle": "2025-04-27T23:39:33.746539Z",
     "shell.execute_reply": "2025-04-27T23:39:33.745657Z",
     "shell.execute_reply.started": "2025-04-27T23:39:30.652291Z"
    },
    "trusted": true
   },
   "outputs": [
    {
     "name": "stdout",
     "output_type": "stream",
     "text": [
      "modeled\n"
     ]
    }
   ],
   "source": [
    "# model\n",
    "\n",
    "model = DecisionTreeClassifier(\n",
    "    criterion='entropy',           # 'entropy' for information gain, 'gini' for Gini impurity\n",
    "    splitter='best',              # or 'random' (best is usually preferred)\n",
    "    max_depth=None,              # limit tree depth (controls overfitting)\n",
    "    min_samples_split=2,         # minimum samples to split an internal node\n",
    "    min_samples_leaf=1,          # minimum samples at a leaf node (prevents overly deep branches)\n",
    "    max_features='sqrt',         # number of features to consider at each split ('auto', 'log2', or int/float)\n",
    "    max_leaf_nodes=None,           # limits number of leaf nodes\n",
    "    min_weight_fraction_leaf=0.0, # fraction of weighted samples required at a leaf node\n",
    "    class_weight='balanced',     # automatically balances class weights (important for imbalanced data)\n",
    "    ccp_alpha=0,             # complexity parameter for Minimal Cost-Complexity Pruning\n",
    "    random_state=42              # ensures reproducibility\n",
    ")\n",
    "\n",
    "modeled = model.fit(sampled, sampled_y)\n",
    "print('modeled')"
   ]
  },
  {
   "cell_type": "markdown",
   "metadata": {},
   "source": [
    "## Evaluate"
   ]
  },
  {
   "cell_type": "code",
   "execution_count": 56,
   "metadata": {
    "execution": {
     "iopub.execute_input": "2025-04-27T23:39:33.747960Z",
     "iopub.status.busy": "2025-04-27T23:39:33.747635Z",
     "iopub.status.idle": "2025-04-27T23:39:33.753426Z",
     "shell.execute_reply": "2025-04-27T23:39:33.752660Z",
     "shell.execute_reply.started": "2025-04-27T23:39:33.747928Z"
    },
    "trusted": true
   },
   "outputs": [],
   "source": [
    "full_pipe = ImbPipeline([\n",
    "    ('cleaner', cleaner),\n",
    "    ('engineer', engineer),\n",
    "    ('selector', selector),\n",
    "    ('sampler', sampler),\n",
    "    ('model', model)\n",
    "])\n",
    "\n",
    "skf = StratifiedKFold(n_splits=3, shuffle=True, random_state=42)\n",
    "\n",
    "scoring = {\n",
    "    'f1_macro': 'f1_macro',\n",
    "    'recall_macro': 'recall_macro',\n",
    "    'roc_auc': 'roc_auc',\n",
    "    'precision_macro': 'precision_macro',\n",
    "    'accuracy': 'accuracy'\n",
    "}"
   ]
  },
  {
   "cell_type": "code",
   "execution_count": 44,
   "metadata": {
    "execution": {
     "iopub.execute_input": "2025-04-27T23:29:58.902695Z",
     "iopub.status.busy": "2025-04-27T23:29:58.902409Z",
     "iopub.status.idle": "2025-04-27T23:29:58.916124Z",
     "shell.execute_reply": "2025-04-27T23:29:58.915374Z",
     "shell.execute_reply.started": "2025-04-27T23:29:58.902675Z"
    },
    "trusted": true
   },
   "outputs": [],
   "source": [
    "def evaluate_model(full_pipe, X, y, cv=3):\n",
    "    # Stratified K-fold\n",
    "    skf = StratifiedKFold(n_splits=cv, shuffle=True, random_state=42)\n",
    "    \n",
    "    # Initialize variables to store results\n",
    "    train_f1_scores = []\n",
    "    train_recall_scores = []\n",
    "    train_roc_auc_scores = []\n",
    "    train_precision_scores = []\n",
    "    train_accuracy_scores = []\n",
    "    \n",
    "    test_f1_scores = []\n",
    "    test_recall_scores = []\n",
    "    test_roc_auc_scores = []\n",
    "    test_precision_scores = []\n",
    "    test_accuracy_scores = []\n",
    "    \n",
    "    y_true_all = []\n",
    "    y_pred_all = []\n",
    "    y_proba_all = []\n",
    "\n",
    "    # Loop over each fold\n",
    "    for train_idx, test_idx in skf.split(X, y):\n",
    "        X_train, X_test = X.iloc[train_idx], X.iloc[test_idx]\n",
    "        y_train, y_test = y.iloc[train_idx], y.iloc[test_idx]\n",
    "\n",
    "        # Fit the model on the training data\n",
    "        full_pipe.fit(X_train, y_train)\n",
    "        \n",
    "        # Predict on the test set\n",
    "        y_pred_test = full_pipe.predict(X_test)\n",
    "        y_proba_test = full_pipe.predict_proba(X_test)[:, 1]  # Probability for class 1\n",
    "        \n",
    "        # Predict on the training set\n",
    "        y_pred_train = full_pipe.predict(X_train)\n",
    "        y_proba_train = full_pipe.predict_proba(X_train)[:, 1]  # Probability for class 1\n",
    "\n",
    "        # Collect true values, predictions, and probabilities\n",
    "        y_true_all.extend(y_test)\n",
    "        y_pred_all.extend(y_pred_test)\n",
    "        y_proba_all.extend(y_proba_test)\n",
    "\n",
    "        # Calculate the evaluation metrics for this fold on the test set\n",
    "        f1_test = f1_score(y_test, y_pred_test, average='macro')\n",
    "        recall_test = recall_score(y_test, y_pred_test, average='macro')\n",
    "        roc_auc_test = roc_auc_score(y_test, y_proba_test)\n",
    "        precision_test = precision_score(y_test, y_pred_test, average='macro')\n",
    "        accuracy_test = accuracy_score(y_test, y_pred_test)\n",
    "\n",
    "        # Calculate the evaluation metrics for this fold on the training set\n",
    "        f1_train = f1_score(y_train, y_pred_train, average='macro')\n",
    "        recall_train = recall_score(y_train, y_pred_train, average='macro')\n",
    "        roc_auc_train = roc_auc_score(y_train, y_proba_train)\n",
    "        precision_train = precision_score(y_train, y_pred_train, average='macro')\n",
    "        accuracy_train = accuracy_score(y_train, y_pred_train)\n",
    "\n",
    "        # Store the results\n",
    "        train_f1_scores.append(f1_train)\n",
    "        train_recall_scores.append(recall_train)\n",
    "        train_roc_auc_scores.append(roc_auc_train)\n",
    "        train_precision_scores.append(precision_train)\n",
    "        train_accuracy_scores.append(accuracy_train)\n",
    "\n",
    "        test_f1_scores.append(f1_test)\n",
    "        test_recall_scores.append(recall_test)\n",
    "        test_roc_auc_scores.append(roc_auc_test)\n",
    "        test_precision_scores.append(precision_test)\n",
    "        test_accuracy_scores.append(accuracy_test)\n",
    "\n",
    "    # Print cross-validation scores for training\n",
    "    print(\"Training Scores:\")\n",
    "    print(f\"F1 Macro: {np.mean(train_f1_scores):.4f}\")\n",
    "    print(f\"Recall Macro: {np.mean(train_recall_scores):.4f}\")\n",
    "    print(f\"ROC AUC: {np.mean(train_roc_auc_scores):.4f}\")\n",
    "    print(f\"Precision Macro: {np.mean(train_precision_scores):.4f}\")\n",
    "    print(f\"Accuracy: {np.mean(train_accuracy_scores):.4f}\")\n",
    "    \n",
    "    # Print cross-validation scores for testing\n",
    "    print(\"\\nTesting Scores:\")\n",
    "    print(f\"F1 Macro: {np.mean(test_f1_scores):.4f}\")\n",
    "    print(f\"Recall Macro: {np.mean(test_recall_scores):.4f}\")\n",
    "    print(f\"ROC AUC: {np.mean(test_roc_auc_scores):.4f}\")\n",
    "    print(f\"Precision Macro: {np.mean(test_precision_scores):.4f}\")\n",
    "    print(f\"Accuracy: {np.mean(test_accuracy_scores):.4f}\")\n",
    "\n",
    "    # Return scores as a dictionary\n",
    "    scores_map = {\n",
    "        'train_f1_macro': np.mean(train_f1_scores),\n",
    "        'train_recall_macro': np.mean(train_recall_scores),\n",
    "        'train_roc_auc': np.mean(train_roc_auc_scores),\n",
    "        'train_precision_macro': np.mean(train_precision_scores),\n",
    "        'train_accuracy': np.mean(train_accuracy_scores),\n",
    "        \n",
    "        'test_f1_macro': np.mean(test_f1_scores),\n",
    "        'test_recall_macro': np.mean(test_recall_scores),\n",
    "        'test_roc_auc': np.mean(test_roc_auc_scores),\n",
    "        'test_precision_macro': np.mean(test_precision_scores),\n",
    "        'test_accuracy': np.mean(test_accuracy_scores)\n",
    "    }\n",
    "    \n",
    "    return y_true_all, y_pred_all, y_proba_all, scores_map"
   ]
  },
  {
   "cell_type": "code",
   "execution_count": 57,
   "metadata": {
    "execution": {
     "iopub.execute_input": "2025-04-27T23:39:36.893408Z",
     "iopub.status.busy": "2025-04-27T23:39:36.893133Z",
     "iopub.status.idle": "2025-04-27T23:43:30.317554Z",
     "shell.execute_reply": "2025-04-27T23:43:30.316444Z",
     "shell.execute_reply.started": "2025-04-27T23:39:36.893390Z"
    },
    "trusted": true
   },
   "outputs": [
    {
     "name": "stdout",
     "output_type": "stream",
     "text": [
      "Training Scores:\n",
      "F1 Macro: 1.0000\n",
      "Recall Macro: 1.0000\n",
      "ROC AUC: 1.0000\n",
      "Precision Macro: 1.0000\n",
      "Accuracy: 1.0000\n",
      "\n",
      "Testing Scores:\n",
      "F1 Macro: 0.7413\n",
      "Recall Macro: 0.7391\n",
      "ROC AUC: 0.7391\n",
      "Precision Macro: 0.7436\n",
      "Accuracy: 0.9654\n"
     ]
    }
   ],
   "source": [
    "y_true_all, y_pred_all, y_proba_all, scores = evaluate_model(full_pipe, X, y, cv=3)"
   ]
  },
  {
   "cell_type": "markdown",
   "metadata": {},
   "source": [
    "# Graphs"
   ]
  },
  {
   "cell_type": "code",
   "execution_count": 58,
   "metadata": {
    "execution": {
     "iopub.execute_input": "2025-04-27T23:45:24.962102Z",
     "iopub.status.busy": "2025-04-27T23:45:24.961738Z",
     "iopub.status.idle": "2025-04-27T23:45:24.977635Z",
     "shell.execute_reply": "2025-04-27T23:45:24.976606Z",
     "shell.execute_reply.started": "2025-04-27T23:45:24.962078Z"
    },
    "trusted": true
   },
   "outputs": [],
   "source": [
    "def tree_vis(model, cols):\n",
    "    plt.figure(figsize=(16, 6))\n",
    "    plot_tree(model, feature_names=cols, filled=True, rounded=True, max_depth=4)\n",
    "    plt.title(\"Decision Tree Visualization\")\n",
    "    plt.savefig(\"decision_tree.png\", dpi=300, bbox_inches='tight')\n",
    "    plt.show()\n",
    "\n",
    "def feat_imp(modeled, cols):\n",
    "    importances = modeled.feature_importances_\n",
    "\n",
    "    feature_names = cols\n",
    "\n",
    "    feat_imp_df = pd.DataFrame({\n",
    "        'Feature': feature_names,\n",
    "        'Importance': importances\n",
    "    }).sort_values(by='Importance', ascending=False)\n",
    "\n",
    "    top_features = feat_imp_df['Feature'].tolist()\n",
    "\n",
    "    plt.figure(figsize=(10, 6))\n",
    "    plt.barh(feat_imp_df['Feature'][:20][::-1], feat_imp_df['Importance'][:20][::-1])\n",
    "    plt.xlabel('Importance')\n",
    "    plt.title('Top 20 Feature Importances (Decision Tree)')\n",
    "    plt.tight_layout()\n",
    "    plt.savefig(\"top_20_feature_importances.png\", dpi=300, bbox_inches='tight')\n",
    "    plt.show()\n",
    "\n",
    "def shap_g(model, selected):\n",
    "    explainer = shap.TreeExplainer(model)\n",
    "    shap_values = explainer.shap_values(selected)\n",
    "    shap.summary_plot(shap_values, selected, show=False)\n",
    "    plt.gcf().tight_layout()  # Clean layout\n",
    "    plt.savefig(\"shap_summary_plot.png\", dpi=300, bbox_inches='tight')  # Save\n",
    "    plt.show()  # Now display the plot\n",
    "    plt.close()  # Close after display\n",
    "\n",
    "def conf_mat(y_true_all, y_pred_all, labels=None):\n",
    "    cm = confusion_matrix(y_true_all, y_pred_all, labels=labels)\n",
    "\n",
    "    print(\"\\nConfusion Matrix:\")\n",
    "    plt.figure(figsize=(6, 5))\n",
    "    sns.heatmap(cm, annot=True, fmt=\"d\", cmap=\"Blues\")\n",
    "    plt.xlabel(\"Predicted\")\n",
    "    plt.ylabel(\"Actual\")\n",
    "    plt.title(\"Confusion Matrix\")\n",
    "    plt.tight_layout()\n",
    "    plt.savefig(\"confusion_matrix.png\", dpi=300, bbox_inches='tight')\n",
    "    plt.show()\n",
    "\n",
    "def roc(y_true_all, y_proba_all):\n",
    "    fpr, tpr, _ = roc_curve(y_true_all, y_proba_all)\n",
    "    roc_auc = auc(fpr, tpr)\n",
    "    print(f\"ROC AUC: {roc_auc:.4f}\")\n",
    "\n",
    "    plt.figure(figsize=(10, 6))\n",
    "    plt.plot(fpr, tpr, color='b', label=f'ROC curve (area = {roc_auc:.4f})')\n",
    "    plt.plot([0, 1], [0, 1], color='gray', linestyle='--')\n",
    "    plt.xlim([0.0, 1.0])\n",
    "    plt.ylim([0.0, 1.05])\n",
    "    plt.xlabel('False Positive Rate')\n",
    "    plt.ylabel('True Positive Rate')\n",
    "    plt.title('Receiver Operating Characteristic (ROC) Curve')\n",
    "    plt.legend(loc='lower right')\n",
    "    plt.savefig(\"roc.png\", dpi=300, bbox_inches='tight')\n",
    "    plt.show()\n",
    "\n",
    "def prec_rec(y_true_all, y_proba_all):\n",
    "    precision, recall, _ = precision_recall_curve(y_true_all, y_proba_all)\n",
    "    avg_precision = average_precision_score(y_true_all, y_proba_all)\n",
    "    print(f\"Average Precision: {avg_precision:.4f}\")\n",
    "\n",
    "    plt.figure(figsize=(10, 6))\n",
    "    plt.plot(recall, precision, color='b', label=f'Precision-Recall curve (AP = {avg_precision:.4f})')\n",
    "    plt.xlabel('Recall')\n",
    "    plt.ylabel('Precision')\n",
    "    plt.title('Precision-Recall Curve')\n",
    "    plt.legend(loc='lower left')\n",
    "    plt.savefig(\"precision_recall_plot.png\", dpi=300, bbox_inches='tight')\n",
    "    plt.show()"
   ]
  },
  {
   "cell_type": "code",
   "execution_count": 59,
   "metadata": {
    "execution": {
     "iopub.execute_input": "2025-04-27T23:45:28.916774Z",
     "iopub.status.busy": "2025-04-27T23:45:28.916463Z",
     "iopub.status.idle": "2025-04-27T23:45:33.290251Z",
     "shell.execute_reply": "2025-04-27T23:45:33.289175Z",
     "shell.execute_reply.started": "2025-04-27T23:45:28.916749Z"
    },
    "trusted": true
   },
   "outputs": [
    {
     "data": {
      "image/png": "[encoded data removed]",
      "text/plain": [
       "<Figure size 1600x600 with 1 Axes>"
      ]
     },
     "metadata": {},
     "output_type": "display_data"
    }
   ],
   "source": [
    "tree_vis(model, X.columns)"
   ]
  },
  {
   "cell_type": "code",
   "execution_count": 60,
   "metadata": {
    "execution": {
     "iopub.execute_input": "2025-04-27T23:45:35.243456Z",
     "iopub.status.busy": "2025-04-27T23:45:35.243163Z",
     "iopub.status.idle": "2025-04-27T23:45:36.050796Z",
     "shell.execute_reply": "2025-04-27T23:45:36.049855Z",
     "shell.execute_reply.started": "2025-04-27T23:45:35.243437Z"
    },
    "trusted": true
   },
   "outputs": [
    {
     "data": {
      "image/png": "[encoded data removed]",
      "text/plain": [
       "<Figure size 1000x600 with 1 Axes>"
      ]
     },
     "metadata": {},
     "output_type": "display_data"
    }
   ],
   "source": [
    "feat_imp(modeled, selected.columns)"
   ]
  },
  {
   "cell_type": "code",
   "execution_count": 37,
   "metadata": {
    "execution": {
     "iopub.execute_input": "2025-04-27T23:22:34.261624Z",
     "iopub.status.busy": "2025-04-27T23:22:34.261085Z",
     "iopub.status.idle": "2025-04-27T23:22:38.671013Z",
     "shell.execute_reply": "2025-04-27T23:22:38.670056Z",
     "shell.execute_reply.started": "2025-04-27T23:22:34.261598Z"
    },
    "trusted": true
   },
   "outputs": [
    {
     "data": {
      "image/png": "[encoded data removed]",
      "text/plain": [
       "<Figure size 800x950 with 1 Axes>"
      ]
     },
     "metadata": {},
     "output_type": "display_data"
    }
   ],
   "source": [
    "shap_g(model, selected)"
   ]
  },
  {
   "cell_type": "code",
   "execution_count": 61,
   "metadata": {
    "execution": {
     "iopub.execute_input": "2025-04-27T23:45:39.989070Z",
     "iopub.status.busy": "2025-04-27T23:45:39.988684Z",
     "iopub.status.idle": "2025-04-27T23:45:41.129285Z",
     "shell.execute_reply": "2025-04-27T23:45:41.128303Z",
     "shell.execute_reply.started": "2025-04-27T23:45:39.989044Z"
    },
    "trusted": true
   },
   "outputs": [
    {
     "name": "stdout",
     "output_type": "stream",
     "text": [
      "\n",
      "Confusion Matrix:\n"
     ]
    },
    {
     "data": {
      "image/png": "[encoded data removed]",
      "text/plain": [
       "<Figure size 600x500 with 2 Axes>"
      ]
     },
     "metadata": {},
     "output_type": "display_data"
    }
   ],
   "source": [
    "conf_mat(y_true_all, y_pred_all)"
   ]
  },
  {
   "cell_type": "code",
   "execution_count": 62,
   "metadata": {
    "execution": {
     "iopub.execute_input": "2025-04-27T23:45:42.675757Z",
     "iopub.status.busy": "2025-04-27T23:45:42.675443Z",
     "iopub.status.idle": "2025-04-27T23:45:43.503219Z",
     "shell.execute_reply": "2025-04-27T23:45:43.502220Z",
     "shell.execute_reply.started": "2025-04-27T23:45:42.675734Z"
    },
    "trusted": true
   },
   "outputs": [
    {
     "name": "stdout",
     "output_type": "stream",
     "text": [
      "ROC AUC: 0.7391\n"
     ]
    },
    {
     "data": {
      "image/png": "[encoded data removed]",
      "text/plain": [
       "<Figure size 1000x600 with 1 Axes>"
      ]
     },
     "metadata": {},
     "output_type": "display_data"
    }
   ],
   "source": [
    "roc(y_true_all, y_proba_all)"
   ]
  },
  {
   "cell_type": "code",
   "execution_count": 63,
   "metadata": {
    "execution": {
     "iopub.execute_input": "2025-04-27T23:45:45.400426Z",
     "iopub.status.busy": "2025-04-27T23:45:45.400136Z",
     "iopub.status.idle": "2025-04-27T23:45:46.674931Z",
     "shell.execute_reply": "2025-04-27T23:45:46.673961Z",
     "shell.execute_reply.started": "2025-04-27T23:45:45.400408Z"
    },
    "trusted": true
   },
   "outputs": [
    {
     "name": "stdout",
     "output_type": "stream",
     "text": [
      "Average Precision: 0.2683\n"
     ]
    },
    {
     "data": {
      "image/png": "[encoded data removed]",
      "text/plain": [
       "<Figure size 1000x600 with 1 Axes>"
      ]
     },
     "metadata": {},
     "output_type": "display_data"
    }
   ],
   "source": [
    "prec_rec(y_true_all, y_proba_all)"
   ]
  },
  {
   "cell_type": "markdown",
   "metadata": {},
   "source": [
    "# Random Search"
   ]
  },
  {
   "cell_type": "code",
   "execution_count": 32,
   "metadata": {
    "execution": {
     "iopub.execute_input": "2025-04-27T15:33:38.443574Z",
     "iopub.status.busy": "2025-04-27T15:33:38.443109Z",
     "iopub.status.idle": "2025-04-27T15:44:05.474357Z",
     "shell.execute_reply": "2025-04-27T15:44:05.472972Z",
     "shell.execute_reply.started": "2025-04-27T15:33:38.443538Z"
    },
    "trusted": true
   },
   "outputs": [
    {
     "name": "stdout",
     "output_type": "stream",
     "text": [
      "Fitting 3 folds for each of 20 candidates, totalling 60 fits\n",
      "Best parameters found:\n",
      "{'model__ccp_alpha': 9.997491581800288e-05, 'model__max_depth': 12, 'model__max_leaf_nodes': 166, 'model__min_samples_leaf': 5, 'model__min_samples_split': 44}\n",
      "\n",
      "Best score:\n",
      "0.8383953404960064\n"
     ]
    }
   ],
   "source": [
    "from sklearn.model_selection import RandomizedSearchCV\n",
    "from scipy.stats import randint, uniform\n",
    "from sklearn.model_selection import train_test_split\n",
    "\n",
    "def randfloat(low, high):\n",
    "    return uniform(loc=low, scale=high - low)\n",
    "\n",
    "X_small, _, y_small, _ = train_test_split(\n",
    "    X, y,\n",
    "    test_size=0.5,         \n",
    "    stratify=y,            # keeps class distribution\n",
    "    random_state=42        # reproducibility\n",
    ")\n",
    "\n",
    "\n",
    "# Define parameter distributions\n",
    "param_distributions = {\n",
    "    # 'sampler': [None, SMOTE(random_state=42)],\n",
    "    'model__max_depth': randint(5, 15),\n",
    "    'model__min_samples_split': randint(5, 50),\n",
    "    'model__min_samples_leaf': randint(2, 20),\n",
    "    'model__max_leaf_nodes': randint(50, 200),\n",
    "    'model__ccp_alpha': randfloat(0.000, 0.001)\n",
    "}\n",
    "\n",
    "# Set up randomized search\n",
    "random_search = RandomizedSearchCV(\n",
    "    estimator=full_pipe,\n",
    "    param_distributions=param_distributions,\n",
    "    n_iter=20,\n",
    "    scoring='roc_auc',\n",
    "    cv=skf,\n",
    "    random_state=42,\n",
    "    n_jobs=-1,\n",
    "    verbose=2,\n",
    "    return_train_score=True\n",
    ")\n",
    "\n",
    "# Run it\n",
    "random_search.fit(X_small, y_small)\n",
    "\n",
    "# Best results\n",
    "print(\"Best parameters found:\")\n",
    "print(random_search.best_params_)\n",
    "\n",
    "print(\"\\nBest score:\")\n",
    "print(random_search.best_score_)\n"
   ]
  },
  {
   "cell_type": "code",
   "execution_count": 33,
   "metadata": {
    "execution": {
     "iopub.execute_input": "2025-04-27T15:44:35.008569Z",
     "iopub.status.busy": "2025-04-27T15:44:35.008166Z",
     "iopub.status.idle": "2025-04-27T15:44:35.041040Z",
     "shell.execute_reply": "2025-04-27T15:44:35.040053Z",
     "shell.execute_reply.started": "2025-04-27T15:44:35.008530Z"
    },
    "trusted": true
   },
   "outputs": [
    {
     "data": {
      "text/html": [
       "<div>\n",
       "<style scoped>\n",
       "    .dataframe tbody tr th:only-of-type {\n",
       "        vertical-align: middle;\n",
       "    }\n",
       "\n",
       "    .dataframe tbody tr th {\n",
       "        vertical-align: top;\n",
       "    }\n",
       "\n",
       "    .dataframe thead th {\n",
       "        text-align: right;\n",
       "    }\n",
       "</style>\n",
       "<table border=\"1\" class=\"dataframe\">\n",
       "  <thead>\n",
       "    <tr style=\"text-align: right;\">\n",
       "      <th></th>\n",
       "      <th>mean_fit_time</th>\n",
       "      <th>std_fit_time</th>\n",
       "      <th>mean_score_time</th>\n",
       "      <th>std_score_time</th>\n",
       "      <th>param_model__ccp_alpha</th>\n",
       "      <th>param_model__max_depth</th>\n",
       "      <th>param_model__max_leaf_nodes</th>\n",
       "      <th>param_model__min_samples_leaf</th>\n",
       "      <th>param_model__min_samples_split</th>\n",
       "      <th>params</th>\n",
       "      <th>mean_test_score</th>\n",
       "      <th>std_test_score</th>\n",
       "      <th>rank_test_score</th>\n",
       "      <th>mean_train_score</th>\n",
       "      <th>std_train_score</th>\n",
       "    </tr>\n",
       "  </thead>\n",
       "  <tbody>\n",
       "    <tr>\n",
       "      <th>1</th>\n",
       "      <td>23.535402</td>\n",
       "      <td>1.242202</td>\n",
       "      <td>5.195794</td>\n",
       "      <td>0.074112</td>\n",
       "      <td>0.0001</td>\n",
       "      <td>12</td>\n",
       "      <td>166</td>\n",
       "      <td>5</td>\n",
       "      <td>44</td>\n",
       "      <td>{'model__ccp_alpha': 9.997491581800288e-05, 'm...</td>\n",
       "      <td>0.838395</td>\n",
       "      <td>0.001127</td>\n",
       "      <td>1</td>\n",
       "      <td>0.858606</td>\n",
       "      <td>0.000698</td>\n",
       "    </tr>\n",
       "    <tr>\n",
       "      <th>4</th>\n",
       "      <td>25.242656</td>\n",
       "      <td>0.829836</td>\n",
       "      <td>5.479598</td>\n",
       "      <td>0.130204</td>\n",
       "      <td>0.000612</td>\n",
       "      <td>13</td>\n",
       "      <td>98</td>\n",
       "      <td>11</td>\n",
       "      <td>32</td>\n",
       "      <td>{'model__ccp_alpha': 0.000611653160488281, 'mo...</td>\n",
       "      <td>0.834293</td>\n",
       "      <td>0.003206</td>\n",
       "      <td>2</td>\n",
       "      <td>0.841419</td>\n",
       "      <td>0.002036</td>\n",
       "    </tr>\n",
       "    <tr>\n",
       "      <th>17</th>\n",
       "      <td>22.562733</td>\n",
       "      <td>0.229078</td>\n",
       "      <td>5.175866</td>\n",
       "      <td>0.148780</td>\n",
       "      <td>0.000358</td>\n",
       "      <td>13</td>\n",
       "      <td>77</td>\n",
       "      <td>8</td>\n",
       "      <td>13</td>\n",
       "      <td>{'model__ccp_alpha': 0.00035846572854427263, '...</td>\n",
       "      <td>0.832344</td>\n",
       "      <td>0.005216</td>\n",
       "      <td>3</td>\n",
       "      <td>0.841450</td>\n",
       "      <td>0.003121</td>\n",
       "    </tr>\n",
       "    <tr>\n",
       "      <th>0</th>\n",
       "      <td>25.243288</td>\n",
       "      <td>0.698874</td>\n",
       "      <td>5.371322</td>\n",
       "      <td>0.219327</td>\n",
       "      <td>0.000375</td>\n",
       "      <td>12</td>\n",
       "      <td>70</td>\n",
       "      <td>8</td>\n",
       "      <td>23</td>\n",
       "      <td>{'model__ccp_alpha': 0.0003745401188473625, 'm...</td>\n",
       "      <td>0.830624</td>\n",
       "      <td>0.004306</td>\n",
       "      <td>4</td>\n",
       "      <td>0.838740</td>\n",
       "      <td>0.001262</td>\n",
       "    </tr>\n",
       "    <tr>\n",
       "      <th>10</th>\n",
       "      <td>22.481570</td>\n",
       "      <td>0.324374</td>\n",
       "      <td>5.197880</td>\n",
       "      <td>0.082198</td>\n",
       "      <td>0.000312</td>\n",
       "      <td>10</td>\n",
       "      <td>103</td>\n",
       "      <td>11</td>\n",
       "      <td>8</td>\n",
       "      <td>{'model__ccp_alpha': 0.000311711076089411, 'mo...</td>\n",
       "      <td>0.829136</td>\n",
       "      <td>0.003804</td>\n",
       "      <td>5</td>\n",
       "      <td>0.842978</td>\n",
       "      <td>0.001508</td>\n",
       "    </tr>\n",
       "    <tr>\n",
       "      <th>15</th>\n",
       "      <td>22.119499</td>\n",
       "      <td>0.312400</td>\n",
       "      <td>5.655002</td>\n",
       "      <td>0.342591</td>\n",
       "      <td>0.000772</td>\n",
       "      <td>12</td>\n",
       "      <td>112</td>\n",
       "      <td>12</td>\n",
       "      <td>21</td>\n",
       "      <td>{'model__ccp_alpha': 0.0007722447692966575, 'm...</td>\n",
       "      <td>0.828710</td>\n",
       "      <td>0.004073</td>\n",
       "      <td>6</td>\n",
       "      <td>0.835338</td>\n",
       "      <td>0.001978</td>\n",
       "    </tr>\n",
       "    <tr>\n",
       "      <th>8</th>\n",
       "      <td>22.072382</td>\n",
       "      <td>0.158887</td>\n",
       "      <td>5.477759</td>\n",
       "      <td>0.302461</td>\n",
       "      <td>0.000241</td>\n",
       "      <td>11</td>\n",
       "      <td>57</td>\n",
       "      <td>16</td>\n",
       "      <td>39</td>\n",
       "      <td>{'model__ccp_alpha': 0.00024102546602601172, '...</td>\n",
       "      <td>0.826386</td>\n",
       "      <td>0.003769</td>\n",
       "      <td>7</td>\n",
       "      <td>0.832325</td>\n",
       "      <td>0.002023</td>\n",
       "    </tr>\n",
       "    <tr>\n",
       "      <th>12</th>\n",
       "      <td>22.401992</td>\n",
       "      <td>0.071215</td>\n",
       "      <td>5.226890</td>\n",
       "      <td>0.090593</td>\n",
       "      <td>0.000895</td>\n",
       "      <td>12</td>\n",
       "      <td>89</td>\n",
       "      <td>17</td>\n",
       "      <td>49</td>\n",
       "      <td>{'model__ccp_alpha': 0.0008948273504276489, 'm...</td>\n",
       "      <td>0.825790</td>\n",
       "      <td>0.003717</td>\n",
       "      <td>8</td>\n",
       "      <td>0.830523</td>\n",
       "      <td>0.001067</td>\n",
       "    </tr>\n",
       "    <tr>\n",
       "      <th>2</th>\n",
       "      <td>21.519149</td>\n",
       "      <td>0.398031</td>\n",
       "      <td>5.141407</td>\n",
       "      <td>0.096723</td>\n",
       "      <td>0.000708</td>\n",
       "      <td>10</td>\n",
       "      <td>102</td>\n",
       "      <td>3</td>\n",
       "      <td>28</td>\n",
       "      <td>{'model__ccp_alpha': 0.0007080725777960455, 'm...</td>\n",
       "      <td>0.825138</td>\n",
       "      <td>0.004952</td>\n",
       "      <td>9</td>\n",
       "      <td>0.832771</td>\n",
       "      <td>0.000480</td>\n",
       "    </tr>\n",
       "    <tr>\n",
       "      <th>3</th>\n",
       "      <td>21.905270</td>\n",
       "      <td>0.105350</td>\n",
       "      <td>5.369207</td>\n",
       "      <td>0.036390</td>\n",
       "      <td>0.000832</td>\n",
       "      <td>10</td>\n",
       "      <td>179</td>\n",
       "      <td>2</td>\n",
       "      <td>16</td>\n",
       "      <td>{'model__ccp_alpha': 0.0008324426408004218, 'm...</td>\n",
       "      <td>0.823573</td>\n",
       "      <td>0.005386</td>\n",
       "      <td>10</td>\n",
       "      <td>0.829402</td>\n",
       "      <td>0.002252</td>\n",
       "    </tr>\n",
       "    <tr>\n",
       "      <th>13</th>\n",
       "      <td>21.588426</td>\n",
       "      <td>0.263660</td>\n",
       "      <td>5.297952</td>\n",
       "      <td>0.059209</td>\n",
       "      <td>0.000271</td>\n",
       "      <td>9</td>\n",
       "      <td>73</td>\n",
       "      <td>14</td>\n",
       "      <td>45</td>\n",
       "      <td>{'model__ccp_alpha': 0.0002713490317738959, 'm...</td>\n",
       "      <td>0.822761</td>\n",
       "      <td>0.007816</td>\n",
       "      <td>11</td>\n",
       "      <td>0.830525</td>\n",
       "      <td>0.004837</td>\n",
       "    </tr>\n",
       "    <tr>\n",
       "      <th>19</th>\n",
       "      <td>22.085728</td>\n",
       "      <td>0.343346</td>\n",
       "      <td>5.333944</td>\n",
       "      <td>0.121301</td>\n",
       "      <td>0.000669</td>\n",
       "      <td>9</td>\n",
       "      <td>148</td>\n",
       "      <td>13</td>\n",
       "      <td>44</td>\n",
       "      <td>{'model__ccp_alpha': 0.0006688412526636073, 'm...</td>\n",
       "      <td>0.820114</td>\n",
       "      <td>0.007460</td>\n",
       "      <td>12</td>\n",
       "      <td>0.825944</td>\n",
       "      <td>0.005089</td>\n",
       "    </tr>\n",
       "    <tr>\n",
       "      <th>6</th>\n",
       "      <td>21.779826</td>\n",
       "      <td>0.275353</td>\n",
       "      <td>5.325187</td>\n",
       "      <td>0.110197</td>\n",
       "      <td>0.000608</td>\n",
       "      <td>9</td>\n",
       "      <td>122</td>\n",
       "      <td>8</td>\n",
       "      <td>22</td>\n",
       "      <td>{'model__ccp_alpha': 0.0006075448519014384, 'm...</td>\n",
       "      <td>0.819999</td>\n",
       "      <td>0.007418</td>\n",
       "      <td>13</td>\n",
       "      <td>0.825544</td>\n",
       "      <td>0.004485</td>\n",
       "    </tr>\n",
       "    <tr>\n",
       "      <th>9</th>\n",
       "      <td>22.467148</td>\n",
       "      <td>0.073729</td>\n",
       "      <td>5.341233</td>\n",
       "      <td>0.039299</td>\n",
       "      <td>0.000909</td>\n",
       "      <td>8</td>\n",
       "      <td>99</td>\n",
       "      <td>9</td>\n",
       "      <td>8</td>\n",
       "      <td>{'model__ccp_alpha': 0.0009093204020787821, 'm...</td>\n",
       "      <td>0.816476</td>\n",
       "      <td>0.004718</td>\n",
       "      <td>14</td>\n",
       "      <td>0.819955</td>\n",
       "      <td>0.001976</td>\n",
       "    </tr>\n",
       "    <tr>\n",
       "      <th>16</th>\n",
       "      <td>22.116344</td>\n",
       "      <td>0.064706</td>\n",
       "      <td>5.191745</td>\n",
       "      <td>0.042334</td>\n",
       "      <td>0.000711</td>\n",
       "      <td>7</td>\n",
       "      <td>82</td>\n",
       "      <td>6</td>\n",
       "      <td>46</td>\n",
       "      <td>{'model__ccp_alpha': 0.00071134195274865, 'mod...</td>\n",
       "      <td>0.795227</td>\n",
       "      <td>0.002520</td>\n",
       "      <td>15</td>\n",
       "      <td>0.799422</td>\n",
       "      <td>0.006805</td>\n",
       "    </tr>\n",
       "    <tr>\n",
       "      <th>5</th>\n",
       "      <td>23.514291</td>\n",
       "      <td>1.708906</td>\n",
       "      <td>5.343323</td>\n",
       "      <td>0.153793</td>\n",
       "      <td>0.000974</td>\n",
       "      <td>7</td>\n",
       "      <td>157</td>\n",
       "      <td>4</td>\n",
       "      <td>41</td>\n",
       "      <td>{'model__ccp_alpha': 0.0009737555188414591, 'm...</td>\n",
       "      <td>0.793917</td>\n",
       "      <td>0.002296</td>\n",
       "      <td>16</td>\n",
       "      <td>0.797156</td>\n",
       "      <td>0.006800</td>\n",
       "    </tr>\n",
       "    <tr>\n",
       "      <th>11</th>\n",
       "      <td>21.940467</td>\n",
       "      <td>0.322180</td>\n",
       "      <td>5.317740</td>\n",
       "      <td>0.073968</td>\n",
       "      <td>0.000185</td>\n",
       "      <td>6</td>\n",
       "      <td>93</td>\n",
       "      <td>3</td>\n",
       "      <td>14</td>\n",
       "      <td>{'model__ccp_alpha': 0.00018485445552552705, '...</td>\n",
       "      <td>0.788886</td>\n",
       "      <td>0.004307</td>\n",
       "      <td>17</td>\n",
       "      <td>0.793182</td>\n",
       "      <td>0.005143</td>\n",
       "    </tr>\n",
       "    <tr>\n",
       "      <th>18</th>\n",
       "      <td>22.250154</td>\n",
       "      <td>0.353723</td>\n",
       "      <td>5.186291</td>\n",
       "      <td>0.039244</td>\n",
       "      <td>0.000623</td>\n",
       "      <td>6</td>\n",
       "      <td>82</td>\n",
       "      <td>17</td>\n",
       "      <td>27</td>\n",
       "      <td>{'model__ccp_alpha': 0.0006232981268275579, 'm...</td>\n",
       "      <td>0.786628</td>\n",
       "      <td>0.003392</td>\n",
       "      <td>18</td>\n",
       "      <td>0.789310</td>\n",
       "      <td>0.005053</td>\n",
       "    </tr>\n",
       "    <tr>\n",
       "      <th>7</th>\n",
       "      <td>21.529555</td>\n",
       "      <td>0.229312</td>\n",
       "      <td>5.720694</td>\n",
       "      <td>0.356135</td>\n",
       "      <td>0.000949</td>\n",
       "      <td>6</td>\n",
       "      <td>58</td>\n",
       "      <td>3</td>\n",
       "      <td>24</td>\n",
       "      <td>{'model__ccp_alpha': 0.0009488855372533333, 'm...</td>\n",
       "      <td>0.784564</td>\n",
       "      <td>0.003558</td>\n",
       "      <td>19</td>\n",
       "      <td>0.786434</td>\n",
       "      <td>0.005047</td>\n",
       "    </tr>\n",
       "    <tr>\n",
       "      <th>14</th>\n",
       "      <td>21.318806</td>\n",
       "      <td>0.072276</td>\n",
       "      <td>5.479198</td>\n",
       "      <td>0.115263</td>\n",
       "      <td>0.000296</td>\n",
       "      <td>5</td>\n",
       "      <td>138</td>\n",
       "      <td>8</td>\n",
       "      <td>13</td>\n",
       "      <td>{'model__ccp_alpha': 0.0002962735057040824, 'm...</td>\n",
       "      <td>0.775159</td>\n",
       "      <td>0.002425</td>\n",
       "      <td>20</td>\n",
       "      <td>0.779502</td>\n",
       "      <td>0.003899</td>\n",
       "    </tr>\n",
       "  </tbody>\n",
       "</table>\n",
       "</div>"
      ],
      "text/plain": [
       "    mean_fit_time  std_fit_time  mean_score_time  std_score_time param_model__ccp_alpha param_model__max_depth param_model__max_leaf_nodes param_model__min_samples_leaf param_model__min_samples_split                                             params  mean_test_score  std_test_score  rank_test_score  mean_train_score  std_train_score\n",
       "1       23.535402      1.242202         5.195794        0.074112                 0.0001                     12                         166                             5                             44  {'model__ccp_alpha': 9.997491581800288e-05, 'm...         0.838395        0.001127                1          0.858606         0.000698\n",
       "4       25.242656      0.829836         5.479598        0.130204               0.000612                     13                          98                            11                             32  {'model__ccp_alpha': 0.000611653160488281, 'mo...         0.834293        0.003206                2          0.841419         0.002036\n",
       "17      22.562733      0.229078         5.175866        0.148780               0.000358                     13                          77                             8                             13  {'model__ccp_alpha': 0.00035846572854427263, '...         0.832344        0.005216                3          0.841450         0.003121\n",
       "0       25.243288      0.698874         5.371322        0.219327               0.000375                     12                          70                             8                             23  {'model__ccp_alpha': 0.0003745401188473625, 'm...         0.830624        0.004306                4          0.838740         0.001262\n",
       "10      22.481570      0.324374         5.197880        0.082198               0.000312                     10                         103                            11                              8  {'model__ccp_alpha': 0.000311711076089411, 'mo...         0.829136        0.003804                5          0.842978         0.001508\n",
       "15      22.119499      0.312400         5.655002        0.342591               0.000772                     12                         112                            12                             21  {'model__ccp_alpha': 0.0007722447692966575, 'm...         0.828710        0.004073                6          0.835338         0.001978\n",
       "8       22.072382      0.158887         5.477759        0.302461               0.000241                     11                          57                            16                             39  {'model__ccp_alpha': 0.00024102546602601172, '...         0.826386        0.003769                7          0.832325         0.002023\n",
       "12      22.401992      0.071215         5.226890        0.090593               0.000895                     12                          89                            17                             49  {'model__ccp_alpha': 0.0008948273504276489, 'm...         0.825790        0.003717                8          0.830523         0.001067\n",
       "2       21.519149      0.398031         5.141407        0.096723               0.000708                     10                         102                             3                             28  {'model__ccp_alpha': 0.0007080725777960455, 'm...         0.825138        0.004952                9          0.832771         0.000480\n",
       "3       21.905270      0.105350         5.369207        0.036390               0.000832                     10                         179                             2                             16  {'model__ccp_alpha': 0.0008324426408004218, 'm...         0.823573        0.005386               10          0.829402         0.002252\n",
       "13      21.588426      0.263660         5.297952        0.059209               0.000271                      9                          73                            14                             45  {'model__ccp_alpha': 0.0002713490317738959, 'm...         0.822761        0.007816               11          0.830525         0.004837\n",
       "19      22.085728      0.343346         5.333944        0.121301               0.000669                      9                         148                            13                             44  {'model__ccp_alpha': 0.0006688412526636073, 'm...         0.820114        0.007460               12          0.825944         0.005089\n",
       "6       21.779826      0.275353         5.325187        0.110197               0.000608                      9                         122                             8                             22  {'model__ccp_alpha': 0.0006075448519014384, 'm...         0.819999        0.007418               13          0.825544         0.004485\n",
       "9       22.467148      0.073729         5.341233        0.039299               0.000909                      8                          99                             9                              8  {'model__ccp_alpha': 0.0009093204020787821, 'm...         0.816476        0.004718               14          0.819955         0.001976\n",
       "16      22.116344      0.064706         5.191745        0.042334               0.000711                      7                          82                             6                             46  {'model__ccp_alpha': 0.00071134195274865, 'mod...         0.795227        0.002520               15          0.799422         0.006805\n",
       "5       23.514291      1.708906         5.343323        0.153793               0.000974                      7                         157                             4                             41  {'model__ccp_alpha': 0.0009737555188414591, 'm...         0.793917        0.002296               16          0.797156         0.006800\n",
       "11      21.940467      0.322180         5.317740        0.073968               0.000185                      6                          93                             3                             14  {'model__ccp_alpha': 0.00018485445552552705, '...         0.788886        0.004307               17          0.793182         0.005143\n",
       "18      22.250154      0.353723         5.186291        0.039244               0.000623                      6                          82                            17                             27  {'model__ccp_alpha': 0.0006232981268275579, 'm...         0.786628        0.003392               18          0.789310         0.005053\n",
       "7       21.529555      0.229312         5.720694        0.356135               0.000949                      6                          58                             3                             24  {'model__ccp_alpha': 0.0009488855372533333, 'm...         0.784564        0.003558               19          0.786434         0.005047\n",
       "14      21.318806      0.072276         5.479198        0.115263               0.000296                      5                         138                             8                             13  {'model__ccp_alpha': 0.0002962735057040824, 'm...         0.775159        0.002425               20          0.779502         0.003899"
      ]
     },
     "execution_count": 33,
     "metadata": {},
     "output_type": "execute_result"
    }
   ],
   "source": [
    "# Create DataFrame from search results\n",
    "results_df = pd.DataFrame(random_search.cv_results_)\n",
    "\n",
    "# Drop split-specific columns\n",
    "results_df = results_df.drop(columns=[col for col in results_df.columns if col.startswith('split')])\n",
    "\n",
    "# Sort by rank score\n",
    "results_df = results_df.sort_values(by='rank_test_score')\n",
    "\n",
    "results_df"
   ]
  },
  {
   "cell_type": "markdown",
   "metadata": {},
   "source": [
    "# Dagshub Upload"
   ]
  },
  {
   "cell_type": "code",
   "execution_count": 38,
   "metadata": {
    "collapsed": true,
    "execution": {
     "iopub.execute_input": "2025-04-27T23:25:20.572670Z",
     "iopub.status.busy": "2025-04-27T23:25:20.572307Z",
     "iopub.status.idle": "2025-04-27T23:25:26.710337Z",
     "shell.execute_reply": "2025-04-27T23:25:26.709423Z",
     "shell.execute_reply.started": "2025-04-27T23:25:20.572643Z"
    },
    "jupyter": {
     "outputs_hidden": true
    },
    "trusted": true
   },
   "outputs": [
    {
     "name": "stdout",
     "output_type": "stream",
     "text": [
      "Collecting dagshub\n",
      "  Downloading dagshub-0.5.9-py3-none-any.whl.metadata (12 kB)\n",
      "Requirement already satisfied: PyYAML>=5 in /usr/local/lib/python3.11/dist-packages (from dagshub) (6.0.2)\n",
      "Collecting appdirs>=1.4.4 (from dagshub)\n",
      "  Downloading appdirs-1.4.4-py2.py3-none-any.whl.metadata (9.0 kB)\n",
      "Requirement already satisfied: click>=8.0.4 in /usr/local/lib/python3.11/dist-packages (from dagshub) (8.1.8)\n",
      "Requirement already satisfied: httpx>=0.23.0 in /usr/local/lib/python3.11/dist-packages (from dagshub) (0.28.1)\n",
      "Requirement already satisfied: GitPython>=3.1.29 in /usr/local/lib/python3.11/dist-packages (from dagshub) (3.1.44)\n",
      "Requirement already satisfied: rich>=13.1.0 in /usr/local/lib/python3.11/dist-packages (from dagshub) (14.0.0)\n",
      "Collecting dacite~=1.6.0 (from dagshub)\n",
      "  Downloading dacite-1.6.0-py3-none-any.whl.metadata (14 kB)\n",
      "Requirement already satisfied: tenacity>=8.2.2 in /usr/local/lib/python3.11/dist-packages (from dagshub) (9.0.0)\n",
      "Collecting gql[requests] (from dagshub)\n",
      "  Downloading gql-3.5.2-py2.py3-none-any.whl.metadata (9.4 kB)\n",
      "Requirement already satisfied: dataclasses-json in /usr/local/lib/python3.11/dist-packages (from dagshub) (0.6.7)\n",
      "Requirement already satisfied: pandas in /usr/local/lib/python3.11/dist-packages (from dagshub) (2.2.3)\n",
      "Collecting treelib>=1.6.4 (from dagshub)\n",
      "  Downloading treelib-1.7.1-py3-none-any.whl.metadata (1.4 kB)\n",
      "Collecting pathvalidate>=3.0.0 (from dagshub)\n",
      "  Downloading pathvalidate-3.2.3-py3-none-any.whl.metadata (12 kB)\n",
      "Requirement already satisfied: python-dateutil in /usr/local/lib/python3.11/dist-packages (from dagshub) (2.9.0.post0)\n",
      "Requirement already satisfied: boto3 in /usr/local/lib/python3.11/dist-packages (from dagshub) (1.37.29)\n",
      "Requirement already satisfied: semver in /usr/local/lib/python3.11/dist-packages (from dagshub) (3.0.4)\n",
      "Collecting dagshub-annotation-converter>=0.1.5 (from dagshub)\n",
      "  Downloading dagshub_annotation_converter-0.1.9-py3-none-any.whl.metadata (2.5 kB)\n",
      "Requirement already satisfied: lxml in /usr/local/lib/python3.11/dist-packages (from dagshub-annotation-converter>=0.1.5->dagshub) (5.3.1)\n",
      "Requirement already satisfied: pillow in /usr/local/lib/python3.11/dist-packages (from dagshub-annotation-converter>=0.1.5->dagshub) (11.1.0)\n",
      "Requirement already satisfied: pydantic>=2.0.0 in /usr/local/lib/python3.11/dist-packages (from dagshub-annotation-converter>=0.1.5->dagshub) (2.11.3)\n",
      "Requirement already satisfied: typing-extensions in /usr/local/lib/python3.11/dist-packages (from dagshub-annotation-converter>=0.1.5->dagshub) (4.13.1)\n",
      "Requirement already satisfied: gitdb<5,>=4.0.1 in /usr/local/lib/python3.11/dist-packages (from GitPython>=3.1.29->dagshub) (4.0.12)\n",
      "Requirement already satisfied: anyio in /usr/local/lib/python3.11/dist-packages (from httpx>=0.23.0->dagshub) (3.7.1)\n",
      "Requirement already satisfied: certifi in /usr/local/lib/python3.11/dist-packages (from httpx>=0.23.0->dagshub) (2025.1.31)\n",
      "Requirement already satisfied: httpcore==1.* in /usr/local/lib/python3.11/dist-packages (from httpx>=0.23.0->dagshub) (1.0.7)\n",
      "Requirement already satisfied: idna in /usr/local/lib/python3.11/dist-packages (from httpx>=0.23.0->dagshub) (3.10)\n",
      "Requirement already satisfied: h11<0.15,>=0.13 in /usr/local/lib/python3.11/dist-packages (from httpcore==1.*->httpx>=0.23.0->dagshub) (0.14.0)\n",
      "Requirement already satisfied: markdown-it-py>=2.2.0 in /usr/local/lib/python3.11/dist-packages (from rich>=13.1.0->dagshub) (3.0.0)\n",
      "Requirement already satisfied: pygments<3.0.0,>=2.13.0 in /usr/local/lib/python3.11/dist-packages (from rich>=13.1.0->dagshub) (2.19.1)\n",
      "Requirement already satisfied: six in /usr/local/lib/python3.11/dist-packages (from treelib>=1.6.4->dagshub) (1.17.0)\n",
      "Requirement already satisfied: botocore<1.38.0,>=1.37.29 in /usr/local/lib/python3.11/dist-packages (from boto3->dagshub) (1.37.29)\n",
      "Requirement already satisfied: jmespath<2.0.0,>=0.7.1 in /usr/local/lib/python3.11/dist-packages (from boto3->dagshub) (1.0.1)\n",
      "Requirement already satisfied: s3transfer<0.12.0,>=0.11.0 in /usr/local/lib/python3.11/dist-packages (from boto3->dagshub) (0.11.4)\n",
      "Requirement already satisfied: marshmallow<4.0.0,>=3.18.0 in /usr/local/lib/python3.11/dist-packages (from dataclasses-json->dagshub) (3.26.1)\n",
      "Requirement already satisfied: typing-inspect<1,>=0.4.0 in /usr/local/lib/python3.11/dist-packages (from dataclasses-json->dagshub) (0.9.0)\n",
      "Collecting graphql-core<3.2.5,>=3.2 (from gql[requests]->dagshub)\n",
      "  Downloading graphql_core-3.2.4-py3-none-any.whl.metadata (10 kB)\n",
      "Requirement already satisfied: yarl<2.0,>=1.6 in /usr/local/lib/python3.11/dist-packages (from gql[requests]->dagshub) (1.19.0)\n",
      "Collecting backoff<3.0,>=1.11.1 (from gql[requests]->dagshub)\n",
      "  Downloading backoff-2.2.1-py3-none-any.whl.metadata (14 kB)\n",
      "Requirement already satisfied: requests<3,>=2.26 in /usr/local/lib/python3.11/dist-packages (from gql[requests]->dagshub) (2.32.3)\n",
      "Requirement already satisfied: requests-toolbelt<2,>=1.0.0 in /usr/local/lib/python3.11/dist-packages (from gql[requests]->dagshub) (1.0.0)\n",
      "Requirement already satisfied: numpy>=1.23.2 in /usr/local/lib/python3.11/dist-packages (from pandas->dagshub) (1.26.4)\n",
      "Requirement already satisfied: pytz>=2020.1 in /usr/local/lib/python3.11/dist-packages (from pandas->dagshub) (2025.2)\n",
      "Requirement already satisfied: tzdata>=2022.7 in /usr/local/lib/python3.11/dist-packages (from pandas->dagshub) (2025.2)\n",
      "Requirement already satisfied: sniffio>=1.1 in /usr/local/lib/python3.11/dist-packages (from anyio->httpx>=0.23.0->dagshub) (1.3.1)\n",
      "Requirement already satisfied: urllib3!=2.2.0,<3,>=1.25.4 in /usr/local/lib/python3.11/dist-packages (from botocore<1.38.0,>=1.37.29->boto3->dagshub) (2.3.0)\n",
      "Requirement already satisfied: smmap<6,>=3.0.1 in /usr/local/lib/python3.11/dist-packages (from gitdb<5,>=4.0.1->GitPython>=3.1.29->dagshub) (5.0.2)\n",
      "Requirement already satisfied: mdurl~=0.1 in /usr/local/lib/python3.11/dist-packages (from markdown-it-py>=2.2.0->rich>=13.1.0->dagshub) (0.1.2)\n",
      "Requirement already satisfied: packaging>=17.0 in /usr/local/lib/python3.11/dist-packages (from marshmallow<4.0.0,>=3.18.0->dataclasses-json->dagshub) (24.2)\n",
      "Requirement already satisfied: mkl_fft in /usr/local/lib/python3.11/dist-packages (from numpy>=1.23.2->pandas->dagshub) (1.3.8)\n",
      "Requirement already satisfied: mkl_random in /usr/local/lib/python3.11/dist-packages (from numpy>=1.23.2->pandas->dagshub) (1.2.4)\n",
      "Requirement already satisfied: mkl_umath in /usr/local/lib/python3.11/dist-packages (from numpy>=1.23.2->pandas->dagshub) (0.1.1)\n",
      "Requirement already satisfied: mkl in /usr/local/lib/python3.11/dist-packages (from numpy>=1.23.2->pandas->dagshub) (2025.1.0)\n",
      "Requirement already satisfied: tbb4py in /usr/local/lib/python3.11/dist-packages (from numpy>=1.23.2->pandas->dagshub) (2022.1.0)\n",
      "Requirement already satisfied: mkl-service in /usr/local/lib/python3.11/dist-packages (from numpy>=1.23.2->pandas->dagshub) (2.4.1)\n",
      "Requirement already satisfied: annotated-types>=0.6.0 in /usr/local/lib/python3.11/dist-packages (from pydantic>=2.0.0->dagshub-annotation-converter>=0.1.5->dagshub) (0.7.0)\n",
      "Requirement already satisfied: pydantic-core==2.33.1 in /usr/local/lib/python3.11/dist-packages (from pydantic>=2.0.0->dagshub-annotation-converter>=0.1.5->dagshub) (2.33.1)\n",
      "Requirement already satisfied: typing-inspection>=0.4.0 in /usr/local/lib/python3.11/dist-packages (from pydantic>=2.0.0->dagshub-annotation-converter>=0.1.5->dagshub) (0.4.0)\n",
      "Requirement already satisfied: charset-normalizer<4,>=2 in /usr/local/lib/python3.11/dist-packages (from requests<3,>=2.26->gql[requests]->dagshub) (3.4.1)\n",
      "Requirement already satisfied: mypy-extensions>=0.3.0 in /usr/local/lib/python3.11/dist-packages (from typing-inspect<1,>=0.4.0->dataclasses-json->dagshub) (1.0.0)\n",
      "Requirement already satisfied: multidict>=4.0 in /usr/local/lib/python3.11/dist-packages (from yarl<2.0,>=1.6->gql[requests]->dagshub) (6.2.0)\n",
      "Requirement already satisfied: propcache>=0.2.1 in /usr/local/lib/python3.11/dist-packages (from yarl<2.0,>=1.6->gql[requests]->dagshub) (0.3.1)\n",
      "Requirement already satisfied: intel-openmp<2026,>=2024 in /usr/local/lib/python3.11/dist-packages (from mkl->numpy>=1.23.2->pandas->dagshub) (2024.2.0)\n",
      "Requirement already satisfied: tbb==2022.* in /usr/local/lib/python3.11/dist-packages (from mkl->numpy>=1.23.2->pandas->dagshub) (2022.1.0)\n",
      "Requirement already satisfied: tcmlib==1.* in /usr/local/lib/python3.11/dist-packages (from tbb==2022.*->mkl->numpy>=1.23.2->pandas->dagshub) (1.2.0)\n",
      "Requirement already satisfied: intel-cmplr-lib-rt in /usr/local/lib/python3.11/dist-packages (from mkl_umath->numpy>=1.23.2->pandas->dagshub) (2024.2.0)\n",
      "Requirement already satisfied: intel-cmplr-lib-ur==2024.2.0 in /usr/local/lib/python3.11/dist-packages (from intel-openmp<2026,>=2024->mkl->numpy>=1.23.2->pandas->dagshub) (2024.2.0)\n",
      "Downloading dagshub-0.5.9-py3-none-any.whl (260 kB)\n",
      "\u001b[2K   \u001b[90m━━━━━━━━━━━━━━━━━━━━━━━━━━━━━━━━━━━━━━━━\u001b[0m \u001b[32m260.1/260.1 kB\u001b[0m \u001b[31m12.4 MB/s\u001b[0m eta \u001b[36m0:00:00\u001b[0m\n",
      "\u001b[?25hDownloading appdirs-1.4.4-py2.py3-none-any.whl (9.6 kB)\n",
      "Downloading dacite-1.6.0-py3-none-any.whl (12 kB)\n",
      "Downloading dagshub_annotation_converter-0.1.9-py3-none-any.whl (33 kB)\n",
      "Downloading pathvalidate-3.2.3-py3-none-any.whl (24 kB)\n",
      "Downloading treelib-1.7.1-py3-none-any.whl (19 kB)\n",
      "Downloading backoff-2.2.1-py3-none-any.whl (15 kB)\n",
      "Downloading graphql_core-3.2.4-py3-none-any.whl (203 kB)\n",
      "\u001b[2K   \u001b[90m━━━━━━━━━━━━━━━━━━━━━━━━━━━━━━━━━━━━━━━━\u001b[0m \u001b[32m203.2/203.2 kB\u001b[0m \u001b[31m11.5 MB/s\u001b[0m eta \u001b[36m0:00:00\u001b[0m\n",
      "\u001b[?25hDownloading gql-3.5.2-py2.py3-none-any.whl (74 kB)\n",
      "\u001b[2K   \u001b[90m━━━━━━━━━━━━━━━━━━━━━━━━━━━━━━━━━━━━━━━━\u001b[0m \u001b[32m74.3/74.3 kB\u001b[0m \u001b[31m4.3 MB/s\u001b[0m eta \u001b[36m0:00:00\u001b[0m\n",
      "\u001b[?25hInstalling collected packages: appdirs, treelib, pathvalidate, graphql-core, dacite, backoff, gql, dagshub-annotation-converter, dagshub\n",
      "  Attempting uninstall: dacite\n",
      "    Found existing installation: dacite 1.9.2\n",
      "    Uninstalling dacite-1.9.2:\n",
      "      Successfully uninstalled dacite-1.9.2\n",
      "\u001b[31mERROR: pip's dependency resolver does not currently take into account all the packages that are installed. This behaviour is the source of the following dependency conflicts.\n",
      "ydata-profiling 4.16.1 requires dacite>=1.8, but you have dacite 1.6.0 which is incompatible.\u001b[0m\u001b[31m\n",
      "\u001b[0mSuccessfully installed appdirs-1.4.4 backoff-2.2.1 dacite-1.6.0 dagshub-0.5.9 dagshub-annotation-converter-0.1.9 gql-3.5.2 graphql-core-3.2.4 pathvalidate-3.2.3 treelib-1.7.1\n"
     ]
    }
   ],
   "source": [
    "!pip install dagshub"
   ]
  },
  {
   "cell_type": "code",
   "execution_count": 39,
   "metadata": {
    "execution": {
     "iopub.execute_input": "2025-04-27T23:25:26.712501Z",
     "iopub.status.busy": "2025-04-27T23:25:26.712110Z",
     "iopub.status.idle": "2025-04-27T23:25:35.912705Z",
     "shell.execute_reply": "2025-04-27T23:25:35.911805Z",
     "shell.execute_reply.started": "2025-04-27T23:25:26.712475Z"
    },
    "trusted": true
   },
   "outputs": [
    {
     "data": {
      "text/html": [
       "<pre style=\"white-space:pre;overflow-x:auto;line-height:normal;font-family:Menlo,'DejaVu Sans Mono',consolas,'Courier New',monospace\">                                       <span style=\"font-weight: bold\">❗❗❗ AUTHORIZATION REQUIRED ❗❗❗</span>                                        \n",
       "</pre>\n"
      ],
      "text/plain": [
       "                                       \u001b[1m❗❗❗ AUTHORIZATION REQUIRED ❗❗❗\u001b[0m                                        \n"
      ]
     },
     "metadata": {},
     "output_type": "display_data"
    },
    {
     "data": {
      "application/vnd.jupyter.widget-view+json": {
       "model_id": "",
       "version_major": 2,
       "version_minor": 0
      },
      "text/plain": [
       "Output()"
      ]
     },
     "metadata": {},
     "output_type": "display_data"
    },
    {
     "name": "stdout",
     "output_type": "stream",
     "text": [
      "\n",
      "\n",
      "Open the following link in your browser to authorize the client:\n",
      "https://dagshub.com/login/oauth/authorize?state=1f8adcfc-9540-4295-bcad-aec7b539cfec&client_id=32b60ba385aa7cecf24046d8195a71c07dd345d9657977863b52e7748e0f0f28&middleman_request_id=c6477b250e740ff671a8d4c9e2d6250a3af61fc7651071fc138298c288eb1ad2\n",
      "\n",
      "\n"
     ]
    },
    {
     "data": {
      "text/html": [
       "<pre style=\"white-space:pre;overflow-x:auto;line-height:normal;font-family:Menlo,'DejaVu Sans Mono',consolas,'Courier New',monospace\"></pre>\n"
      ],
      "text/plain": []
     },
     "metadata": {},
     "output_type": "display_data"
    },
    {
     "data": {
      "text/html": [
       "<pre style=\"white-space:pre;overflow-x:auto;line-height:normal;font-family:Menlo,'DejaVu Sans Mono',consolas,'Courier New',monospace\">Accessing as Cimbir\n",
       "</pre>\n"
      ],
      "text/plain": [
       "Accessing as Cimbir\n"
      ]
     },
     "metadata": {},
     "output_type": "display_data"
    },
    {
     "data": {
      "text/html": [
       "<pre style=\"white-space:pre;overflow-x:auto;line-height:normal;font-family:Menlo,'DejaVu Sans Mono',consolas,'Courier New',monospace\">Initialized MLflow to track repo <span style=\"color: #008000; text-decoration-color: #008000\">\"Cimbir/IEEE-CIS_Fraud_Detection\"</span>\n",
       "</pre>\n"
      ],
      "text/plain": [
       "Initialized MLflow to track repo \u001b[32m\"Cimbir/IEEE-CIS_Fraud_Detection\"\u001b[0m\n"
      ]
     },
     "metadata": {},
     "output_type": "display_data"
    },
    {
     "data": {
      "text/html": [
       "<pre style=\"white-space:pre;overflow-x:auto;line-height:normal;font-family:Menlo,'DejaVu Sans Mono',consolas,'Courier New',monospace\">Repository Cimbir/IEEE-CIS_Fraud_Detection initialized!\n",
       "</pre>\n"
      ],
      "text/plain": [
       "Repository Cimbir/IEEE-CIS_Fraud_Detection initialized!\n"
      ]
     },
     "metadata": {},
     "output_type": "display_data"
    }
   ],
   "source": [
    "import dagshub\n",
    "dagshub.init(repo_owner='Cimbir', repo_name='IEEE-CIS_Fraud_Detection', mlflow=True)"
   ]
  },
  {
   "cell_type": "code",
   "execution_count": 40,
   "metadata": {
    "collapsed": true,
    "execution": {
     "iopub.execute_input": "2025-04-27T23:25:38.834477Z",
     "iopub.status.busy": "2025-04-27T23:25:38.833348Z",
     "iopub.status.idle": "2025-04-27T23:25:50.762096Z",
     "shell.execute_reply": "2025-04-27T23:25:50.760637Z",
     "shell.execute_reply.started": "2025-04-27T23:25:38.834444Z"
    },
    "jupyter": {
     "outputs_hidden": true
    },
    "trusted": true
   },
   "outputs": [
    {
     "name": "stdout",
     "output_type": "stream",
     "text": [
      "Collecting mlflow==2.10.2\n",
      "  Downloading mlflow-2.10.2-py3-none-any.whl.metadata (13 kB)\n",
      "Requirement already satisfied: click<9,>=7.0 in /usr/local/lib/python3.11/dist-packages (from mlflow==2.10.2) (8.1.8)\n",
      "Requirement already satisfied: cloudpickle<4 in /usr/local/lib/python3.11/dist-packages (from mlflow==2.10.2) (3.1.1)\n",
      "Requirement already satisfied: entrypoints<1 in /usr/local/lib/python3.11/dist-packages (from mlflow==2.10.2) (0.4)\n",
      "Requirement already satisfied: gitpython<4,>=2.1.0 in /usr/local/lib/python3.11/dist-packages (from mlflow==2.10.2) (3.1.44)\n",
      "Requirement already satisfied: pyyaml<7,>=5.1 in /usr/local/lib/python3.11/dist-packages (from mlflow==2.10.2) (6.0.2)\n",
      "Requirement already satisfied: protobuf<5,>=3.12.0 in /usr/local/lib/python3.11/dist-packages (from mlflow==2.10.2) (3.20.3)\n",
      "Collecting pytz<2024 (from mlflow==2.10.2)\n",
      "  Downloading pytz-2023.4-py2.py3-none-any.whl.metadata (22 kB)\n",
      "Requirement already satisfied: requests<3,>=2.17.3 in /usr/local/lib/python3.11/dist-packages (from mlflow==2.10.2) (2.32.3)\n",
      "Collecting packaging<24 (from mlflow==2.10.2)\n",
      "  Downloading packaging-23.2-py3-none-any.whl.metadata (3.2 kB)\n",
      "Collecting importlib-metadata!=4.7.0,<8,>=3.7.0 (from mlflow==2.10.2)\n",
      "  Downloading importlib_metadata-7.2.1-py3-none-any.whl.metadata (4.6 kB)\n",
      "Requirement already satisfied: sqlparse<1,>=0.4.0 in /usr/local/lib/python3.11/dist-packages (from mlflow==2.10.2) (0.5.3)\n",
      "Requirement already satisfied: alembic!=1.10.0,<2 in /usr/local/lib/python3.11/dist-packages (from mlflow==2.10.2) (1.15.2)\n",
      "Requirement already satisfied: docker<8,>=4.0.0 in /usr/local/lib/python3.11/dist-packages (from mlflow==2.10.2) (7.1.0)\n",
      "Requirement already satisfied: Flask<4 in /usr/local/lib/python3.11/dist-packages (from mlflow==2.10.2) (3.1.0)\n",
      "Requirement already satisfied: numpy<2 in /usr/local/lib/python3.11/dist-packages (from mlflow==2.10.2) (1.26.4)\n",
      "Requirement already satisfied: scipy<2 in /usr/local/lib/python3.11/dist-packages (from mlflow==2.10.2) (1.15.2)\n",
      "Requirement already satisfied: pandas<3 in /usr/local/lib/python3.11/dist-packages (from mlflow==2.10.2) (2.2.3)\n",
      "Collecting querystring-parser<2 (from mlflow==2.10.2)\n",
      "  Downloading querystring_parser-1.2.4-py2.py3-none-any.whl.metadata (559 bytes)\n",
      "Requirement already satisfied: sqlalchemy<3,>=1.4.0 in /usr/local/lib/python3.11/dist-packages (from mlflow==2.10.2) (2.0.38)\n",
      "Requirement already satisfied: scikit-learn<2 in /usr/local/lib/python3.11/dist-packages (from mlflow==2.10.2) (1.3.2)\n",
      "Collecting pyarrow<16,>=4.0.0 (from mlflow==2.10.2)\n",
      "  Downloading pyarrow-15.0.2-cp311-cp311-manylinux_2_28_x86_64.whl.metadata (3.0 kB)\n",
      "Requirement already satisfied: markdown<4,>=3.3 in /usr/local/lib/python3.11/dist-packages (from mlflow==2.10.2) (3.7)\n",
      "Requirement already satisfied: matplotlib<4 in /usr/local/lib/python3.11/dist-packages (from mlflow==2.10.2) (3.7.5)\n",
      "Collecting gunicorn<22 (from mlflow==2.10.2)\n",
      "  Downloading gunicorn-21.2.0-py3-none-any.whl.metadata (4.1 kB)\n",
      "Requirement already satisfied: Jinja2<4,>=2.11 in /usr/local/lib/python3.11/dist-packages (from mlflow==2.10.2) (3.1.6)\n",
      "Requirement already satisfied: Mako in /usr/local/lib/python3.11/dist-packages (from alembic!=1.10.0,<2->mlflow==2.10.2) (1.3.9)\n",
      "Requirement already satisfied: typing-extensions>=4.12 in /usr/local/lib/python3.11/dist-packages (from alembic!=1.10.0,<2->mlflow==2.10.2) (4.13.1)\n",
      "Requirement already satisfied: urllib3>=1.26.0 in /usr/local/lib/python3.11/dist-packages (from docker<8,>=4.0.0->mlflow==2.10.2) (2.3.0)\n",
      "Requirement already satisfied: Werkzeug>=3.1 in /usr/local/lib/python3.11/dist-packages (from Flask<4->mlflow==2.10.2) (3.1.3)\n",
      "Requirement already satisfied: itsdangerous>=2.2 in /usr/local/lib/python3.11/dist-packages (from Flask<4->mlflow==2.10.2) (2.2.0)\n",
      "Requirement already satisfied: blinker>=1.9 in /usr/local/lib/python3.11/dist-packages (from Flask<4->mlflow==2.10.2) (1.9.0)\n",
      "Requirement already satisfied: gitdb<5,>=4.0.1 in /usr/local/lib/python3.11/dist-packages (from gitpython<4,>=2.1.0->mlflow==2.10.2) (4.0.12)\n",
      "Requirement already satisfied: zipp>=0.5 in /usr/local/lib/python3.11/dist-packages (from importlib-metadata!=4.7.0,<8,>=3.7.0->mlflow==2.10.2) (3.21.0)\n",
      "Requirement already satisfied: MarkupSafe>=2.0 in /usr/local/lib/python3.11/dist-packages (from Jinja2<4,>=2.11->mlflow==2.10.2) (3.0.2)\n",
      "Requirement already satisfied: contourpy>=1.0.1 in /usr/local/lib/python3.11/dist-packages (from matplotlib<4->mlflow==2.10.2) (1.3.1)\n",
      "Requirement already satisfied: cycler>=0.10 in /usr/local/lib/python3.11/dist-packages (from matplotlib<4->mlflow==2.10.2) (0.12.1)\n",
      "Requirement already satisfied: fonttools>=4.22.0 in /usr/local/lib/python3.11/dist-packages (from matplotlib<4->mlflow==2.10.2) (4.56.0)\n",
      "Requirement already satisfied: kiwisolver>=1.0.1 in /usr/local/lib/python3.11/dist-packages (from matplotlib<4->mlflow==2.10.2) (1.4.8)\n",
      "Requirement already satisfied: pillow>=6.2.0 in /usr/local/lib/python3.11/dist-packages (from matplotlib<4->mlflow==2.10.2) (11.1.0)\n",
      "Requirement already satisfied: pyparsing>=2.3.1 in /usr/local/lib/python3.11/dist-packages (from matplotlib<4->mlflow==2.10.2) (3.2.1)\n",
      "Requirement already satisfied: python-dateutil>=2.7 in /usr/local/lib/python3.11/dist-packages (from matplotlib<4->mlflow==2.10.2) (2.9.0.post0)\n",
      "Requirement already satisfied: mkl_fft in /usr/local/lib/python3.11/dist-packages (from numpy<2->mlflow==2.10.2) (1.3.8)\n",
      "Requirement already satisfied: mkl_random in /usr/local/lib/python3.11/dist-packages (from numpy<2->mlflow==2.10.2) (1.2.4)\n",
      "Requirement already satisfied: mkl_umath in /usr/local/lib/python3.11/dist-packages (from numpy<2->mlflow==2.10.2) (0.1.1)\n",
      "Requirement already satisfied: mkl in /usr/local/lib/python3.11/dist-packages (from numpy<2->mlflow==2.10.2) (2025.1.0)\n",
      "Requirement already satisfied: tbb4py in /usr/local/lib/python3.11/dist-packages (from numpy<2->mlflow==2.10.2) (2022.1.0)\n",
      "Requirement already satisfied: mkl-service in /usr/local/lib/python3.11/dist-packages (from numpy<2->mlflow==2.10.2) (2.4.1)\n",
      "Requirement already satisfied: tzdata>=2022.7 in /usr/local/lib/python3.11/dist-packages (from pandas<3->mlflow==2.10.2) (2025.2)\n",
      "Requirement already satisfied: six in /usr/local/lib/python3.11/dist-packages (from querystring-parser<2->mlflow==2.10.2) (1.17.0)\n",
      "Requirement already satisfied: charset-normalizer<4,>=2 in /usr/local/lib/python3.11/dist-packages (from requests<3,>=2.17.3->mlflow==2.10.2) (3.4.1)\n",
      "Requirement already satisfied: idna<4,>=2.5 in /usr/local/lib/python3.11/dist-packages (from requests<3,>=2.17.3->mlflow==2.10.2) (3.10)\n",
      "Requirement already satisfied: certifi>=2017.4.17 in /usr/local/lib/python3.11/dist-packages (from requests<3,>=2.17.3->mlflow==2.10.2) (2025.1.31)\n",
      "Requirement already satisfied: joblib>=1.1.1 in /usr/local/lib/python3.11/dist-packages (from scikit-learn<2->mlflow==2.10.2) (1.4.2)\n",
      "Requirement already satisfied: threadpoolctl>=2.0.0 in /usr/local/lib/python3.11/dist-packages (from scikit-learn<2->mlflow==2.10.2) (3.6.0)\n",
      "Requirement already satisfied: greenlet!=0.4.17 in /usr/local/lib/python3.11/dist-packages (from sqlalchemy<3,>=1.4.0->mlflow==2.10.2) (3.1.1)\n",
      "Requirement already satisfied: smmap<6,>=3.0.1 in /usr/local/lib/python3.11/dist-packages (from gitdb<5,>=4.0.1->gitpython<4,>=2.1.0->mlflow==2.10.2) (5.0.2)\n",
      "Requirement already satisfied: intel-openmp<2026,>=2024 in /usr/local/lib/python3.11/dist-packages (from mkl->numpy<2->mlflow==2.10.2) (2024.2.0)\n",
      "Requirement already satisfied: tbb==2022.* in /usr/local/lib/python3.11/dist-packages (from mkl->numpy<2->mlflow==2.10.2) (2022.1.0)\n",
      "Requirement already satisfied: tcmlib==1.* in /usr/local/lib/python3.11/dist-packages (from tbb==2022.*->mkl->numpy<2->mlflow==2.10.2) (1.2.0)\n",
      "Requirement already satisfied: intel-cmplr-lib-rt in /usr/local/lib/python3.11/dist-packages (from mkl_umath->numpy<2->mlflow==2.10.2) (2024.2.0)\n",
      "Requirement already satisfied: intel-cmplr-lib-ur==2024.2.0 in /usr/local/lib/python3.11/dist-packages (from intel-openmp<2026,>=2024->mkl->numpy<2->mlflow==2.10.2) (2024.2.0)\n",
      "Downloading mlflow-2.10.2-py3-none-any.whl (19.5 MB)\n",
      "\u001b[2K   \u001b[90m━━━━━━━━━━━━━━━━━━━━━━━━━━━━━━━━━━━━━━━━\u001b[0m \u001b[32m19.5/19.5 MB\u001b[0m \u001b[31m72.8 MB/s\u001b[0m eta \u001b[36m0:00:00\u001b[0m:00:01\u001b[0m00:01\u001b[0m\n",
      "\u001b[?25hDownloading gunicorn-21.2.0-py3-none-any.whl (80 kB)\n",
      "\u001b[2K   \u001b[90m━━━━━━━━━━━━━━━━━━━━━━━━━━━━━━━━━━━━━━━━\u001b[0m \u001b[32m80.2/80.2 kB\u001b[0m \u001b[31m4.7 MB/s\u001b[0m eta \u001b[36m0:00:00\u001b[0m\n",
      "\u001b[?25hDownloading importlib_metadata-7.2.1-py3-none-any.whl (25 kB)\n",
      "Downloading packaging-23.2-py3-none-any.whl (53 kB)\n",
      "\u001b[2K   \u001b[90m━━━━━━━━━━━━━━━━━━━━━━━━━━━━━━━━━━━━━━━━\u001b[0m \u001b[32m53.0/53.0 kB\u001b[0m \u001b[31m2.9 MB/s\u001b[0m eta \u001b[36m0:00:00\u001b[0m\n",
      "\u001b[?25hDownloading pyarrow-15.0.2-cp311-cp311-manylinux_2_28_x86_64.whl (38.3 MB)\n",
      "\u001b[2K   \u001b[90m━━━━━━━━━━━━━━━━━━━━━━━━━━━━━━━━━━━━━━━━\u001b[0m \u001b[32m38.3/38.3 MB\u001b[0m \u001b[31m41.1 MB/s\u001b[0m eta \u001b[36m0:00:00\u001b[0m:00:01\u001b[0m00:01\u001b[0m\n",
      "\u001b[?25hDownloading pytz-2023.4-py2.py3-none-any.whl (506 kB)\n",
      "\u001b[2K   \u001b[90m━━━━━━━━━━━━━━━━━━━━━━━━━━━━━━━━━━━━━━━━\u001b[0m \u001b[32m506.5/506.5 kB\u001b[0m \u001b[31m26.1 MB/s\u001b[0m eta \u001b[36m0:00:00\u001b[0m\n",
      "\u001b[?25hDownloading querystring_parser-1.2.4-py2.py3-none-any.whl (7.9 kB)\n",
      "Installing collected packages: pytz, querystring-parser, packaging, importlib-metadata, gunicorn, pyarrow, mlflow\n",
      "  Attempting uninstall: pytz\n",
      "    Found existing installation: pytz 2025.2\n",
      "    Uninstalling pytz-2025.2:\n",
      "      Successfully uninstalled pytz-2025.2\n",
      "  Attempting uninstall: packaging\n",
      "    Found existing installation: packaging 24.2\n",
      "    Uninstalling packaging-24.2:\n",
      "      Successfully uninstalled packaging-24.2\n",
      "  Attempting uninstall: importlib-metadata\n",
      "    Found existing installation: importlib_metadata 8.6.1\n",
      "    Uninstalling importlib_metadata-8.6.1:\n",
      "      Successfully uninstalled importlib_metadata-8.6.1\n",
      "  Attempting uninstall: pyarrow\n",
      "    Found existing installation: pyarrow 19.0.1\n",
      "    Uninstalling pyarrow-19.0.1:\n",
      "      Successfully uninstalled pyarrow-19.0.1\n",
      "\u001b[31mERROR: pip's dependency resolver does not currently take into account all the packages that are installed. This behaviour is the source of the following dependency conflicts.\n",
      "datasets 3.5.0 requires fsspec[http]<=2024.12.0,>=2023.1.0, but you have fsspec 2025.3.2 which is incompatible.\n",
      "ydata-profiling 4.16.1 requires dacite>=1.8, but you have dacite 1.6.0 which is incompatible.\n",
      "google-colab 1.0.0 requires notebook==6.5.5, but you have notebook 6.5.4 which is incompatible.\n",
      "google-colab 1.0.0 requires pandas==2.2.2, but you have pandas 2.2.3 which is incompatible.\n",
      "dopamine-rl 4.1.2 requires gymnasium>=1.0.0, but you have gymnasium 0.29.0 which is incompatible.\n",
      "pandas-gbq 0.26.1 requires google-api-core<3.0.0dev,>=2.10.2, but you have google-api-core 1.34.1 which is incompatible.\n",
      "bigframes 1.36.0 requires rich<14,>=12.4.4, but you have rich 14.0.0 which is incompatible.\n",
      "ibis-framework 9.2.0 requires rich<14,>=12.4.4, but you have rich 14.0.0 which is incompatible.\n",
      "ibis-framework 9.2.0 requires toolz<1,>=0.11, but you have toolz 1.0.0 which is incompatible.\n",
      "plotnine 0.14.5 requires matplotlib>=3.8.0, but you have matplotlib 3.7.5 which is incompatible.\u001b[0m\u001b[31m\n",
      "\u001b[0mSuccessfully installed gunicorn-21.2.0 importlib-metadata-7.2.1 mlflow-2.10.2 packaging-23.2 pyarrow-15.0.2 pytz-2023.4 querystring-parser-1.2.4\n"
     ]
    }
   ],
   "source": [
    "!pip install mlflow==2.10.2"
   ]
  },
  {
   "cell_type": "code",
   "execution_count": 64,
   "metadata": {
    "execution": {
     "iopub.execute_input": "2025-04-27T23:46:06.235381Z",
     "iopub.status.busy": "2025-04-27T23:46:06.235051Z",
     "iopub.status.idle": "2025-04-27T23:46:28.627855Z",
     "shell.execute_reply": "2025-04-27T23:46:28.626954Z",
     "shell.execute_reply.started": "2025-04-27T23:46:06.235357Z"
    },
    "trusted": true
   },
   "outputs": [],
   "source": [
    "import mlflow\n",
    "\n",
    "mlflow.set_experiment(f'Decision_Tree_Training')\n",
    "\n",
    "i = 'Overfit'\n",
    "\n",
    "# with mlflow.start_run(run_name=f'Decision_Tree_Cleaning_{i}') as run:\n",
    "#     mlflow.log_param('cols_to_remove', cols_to_remove)\n",
    "#     mlflow.log_param('row_nan_frac', row_nan_frac)\n",
    "#     mlflow.log_param('num_imputer', num_imputer)\n",
    "#     mlflow.log_param('cat_imputer', cat_imputer)\n",
    "#     mlflow.log_param('outlier_handling', outlier_handling)\n",
    "#     mlflow.log_param('outlier_thresh', outlier_thresh)\n",
    "\n",
    "# with mlflow.start_run(run_name=f'Decision_Tree_Engineering_{i}') as run:\n",
    "#     mlflow.log_param('encoding', encoding)\n",
    "\n",
    "# with mlflow.start_run(run_name=f'Decision_Tree_Selection_{i}') as run:\n",
    "#     mlflow.log_param('corr_threshold', corr_threshold)\n",
    "#     mlflow.log_param('n_features_to_select', n_features_to_select)\n",
    "#     mlflow.log_param('to_stay', to_stay)\n",
    "#     mlflow.log_param('feature_selection_method', 'shap')\n",
    "    \n",
    "with mlflow.start_run(run_name=f'Decision_Tree_Model_{i}') as run:\n",
    "    mlflow.log_param('sampler', sampler)\n",
    "    mlflow.log_param('model', model)\n",
    "\n",
    "    for key, value in scores.items():\n",
    "        mlflow.log_metric(key, value.mean())\n",
    "\n",
    "    for param_name, param_value in model.get_params().items():\n",
    "        mlflow.log_param('best_'+param_name, param_value)\n",
    "\n",
    "    # mlflow.log_param('model__max_depth', '5-15')\n",
    "    # mlflow.log_param('model__min_samples_split', '5-50')\n",
    "    # mlflow.log_param('model__min_samples_leaf', '2-20')\n",
    "    # mlflow.log_param('model__max_leaf_nodes', '50-200')\n",
    "    # mlflow.log_param('model__ccp_alpha', '0-0.001')\n",
    "\n",
    "    mlflow.log_artifact(\"decision_tree.png\", artifact_path='graph')\n",
    "    mlflow.log_artifact(\"top_20_feature_importances.png\", artifact_path='graph')\n",
    "    mlflow.log_artifact(\"shap_summary_plot.png\", artifact_path='graph')\n",
    "    mlflow.log_artifact(\"roc.png\", artifact_path='graph')\n",
    "    mlflow.log_artifact(\"precision_recall_plot.png\", artifact_path='graph')\n",
    "    mlflow.log_artifact(\"confusion_matrix.png\", artifact_path='graph')\n",
    "    \n",
    "    # mlflow.sklearn.log_model(full_pipe, artifact_path='model', registered_model_name=f'decision_tree_search_best')"
   ]
  },
  {
   "cell_type": "code",
   "execution_count": null,
   "metadata": {
    "trusted": true
   },
   "outputs": [],
   "source": []
  }
 ],
 "metadata": {
  "kaggle": {
   "accelerator": "none",
   "dataSources": [
    {
     "databundleVersionId": 568274,
     "sourceId": 14242,
     "sourceType": "competition"
    }
   ],
   "dockerImageVersionId": 31012,
   "isGpuEnabled": false,
   "isInternetEnabled": true,
   "language": "python",
   "sourceType": "notebook"
  },
  "kernelspec": {
   "display_name": ".venv",
   "language": "python",
   "name": "python3"
  },
  "language_info": {
   "codemirror_mode": {
    "name": "ipython",
    "version": 3
   },
   "file_extension": ".py",
   "mimetype": "text/x-python",
   "name": "python",
   "nbconvert_exporter": "python",
   "pygments_lexer": "ipython3",
   "version": "3.13.2"
  }
 },
 "nbformat": 4,
 "nbformat_minor": 4
}
